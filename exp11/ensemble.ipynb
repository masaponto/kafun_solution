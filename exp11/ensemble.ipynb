{
 "cells": [
  {
   "cell_type": "code",
   "execution_count": 1,
   "metadata": {},
   "outputs": [],
   "source": [
    "import pandas as pd\n",
    "import numpy as np"
   ]
  },
  {
   "cell_type": "code",
   "execution_count": 2,
   "metadata": {},
   "outputs": [],
   "source": [
    "df_lgbm = pd.read_csv(\"sub_42_4.csv\", index_col=None)\n",
    "df_lgbm_hosei = pd.read_csv(\"sub_42_4_hosei.csv\", index_col=None)\n",
    "# df_catboost = pd.read_csv(\"sub_catboost_42_4.csv\", index_col=None)\n",
    "# df_mlp = pd.read_csv(\"sub_mlp_42_4.csv\", index_col=None)"
   ]
  },
  {
   "cell_type": "code",
   "execution_count": 3,
   "metadata": {},
   "outputs": [],
   "source": [
    "df = df_lgbm.copy()"
   ]
  },
  {
   "cell_type": "code",
   "execution_count": 4,
   "metadata": {},
   "outputs": [],
   "source": [
    "dfs = [df_lgbm, df_mlp]"
   ]
  },
  {
   "cell_type": "code",
   "execution_count": 5,
   "metadata": {},
   "outputs": [],
   "source": [
    "cols = [\"pollen_tokyo\", \"pollen_chiba\", \"pollen_utsunomiya\"]"
   ]
  },
  {
   "cell_type": "code",
   "execution_count": 6,
   "metadata": {},
   "outputs": [],
   "source": [
    "_df = pd.read_csv(\"../input/train_v2.csv\", index_col=None)"
   ]
  },
  {
   "cell_type": "code",
   "execution_count": 7,
   "metadata": {},
   "outputs": [],
   "source": [
    "def getNearestValue(list, num):\n",
    "    \"\"\"\n",
    "    https://qiita.com/icchi_h/items/fc0df3abb02b51f81657\n",
    "    概要: リストからある値に最も近い値を返却する関数\n",
    "    @param list: データ配列\n",
    "    @param num: 対象値\n",
    "    @return 対象値に最も近い値\n",
    "    \"\"\"\n",
    "\n",
    "    # リスト要素と対象値の差分を計算し最小値のインデックスを取得\n",
    "    idx = np.abs(np.asarray(list) - num).argmin()\n",
    "    return list[idx]\n",
    "\n",
    "\n",
    "\n",
    "for col in cols:\n",
    "    for _df in dfs:        \n",
    "        df[col] += _df[col]\n",
    "        \n",
    "    df[col] = df[col] / (len(dfs) + 1)\n",
    "\n",
    "    pollen_list = list(set(_df[col].tolist()))\n",
    "    df[col] = np.array([getNearestValue(pollen_list, v) for v in df[col]])"
   ]
  },
  {
   "cell_type": "code",
   "execution_count": 8,
   "metadata": {},
   "outputs": [],
   "source": [
    "df.to_csv(\"sub_ensemble.csv\", index=None)\n"
   ]
  },
  {
   "cell_type": "code",
   "execution_count": null,
   "metadata": {},
   "outputs": [],
   "source": []
  },
  {
   "cell_type": "markdown",
   "metadata": {},
   "source": [
    "- sub_catboost_42_4.csv 12.36318\n",
    "- sub_mlp_42_4.csv  12.71144\n",
    "- sub_ensemble.csv 12.24378"
   ]
  },
  {
   "cell_type": "markdown",
   "metadata": {},
   "source": []
  }
 ],
 "metadata": {
  "kernelspec": {
   "display_name": "Python 3.7.12 ('base')",
   "language": "python",
   "name": "python3"
  },
  "language_info": {
   "codemirror_mode": {
    "name": "ipython",
    "version": 3
   },
   "file_extension": ".py",
   "mimetype": "text/x-python",
   "name": "python",
   "nbconvert_exporter": "python",
   "pygments_lexer": "ipython3",
   "version": "3.7.12"
  },
  "orig_nbformat": 4,
  "vscode": {
   "interpreter": {
    "hash": "d4d1e4263499bec80672ea0156c357c1ee493ec2b1c70f0acce89fc37c4a6abe"
   }
  }
 },
 "nbformat": 4,
 "nbformat_minor": 2
}
