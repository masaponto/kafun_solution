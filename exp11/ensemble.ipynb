{
 "cells": [
  {
   "cell_type": "code",
   "execution_count": 1,
   "metadata": {},
   "outputs": [],
   "source": [
    "import pandas as pd\n",
    "import numpy as np\n"
   ]
  },
  {
   "cell_type": "code",
   "execution_count": 2,
   "metadata": {},
   "outputs": [],
   "source": [
    "df_lgbm = pd.read_csv(\"sub_42_4.csv\", index_col=None)\n",
    "df_lgbm_hosei = pd.read_csv(\"sub_42_4_hosei.csv\", index_col=None)\n",
    "df_lgbm_q_50 = pd.read_csv(\"sub_42_4_q_50-50-50.csv\", index_col=None)\n",
    "df_lgbm_q_50k = pd.read_csv(\"sub_42_4_q_50000-50000-50000.csv\", index_col=None)\n",
    "df_svr = pd.read_csv(\"sub_svr_42_4.csv\", index_col=None)\n",
    "df_mlp = pd.read_csv(\"sub_mlp_42_4.csv\", index_col=None)\n"
   ]
  },
  {
   "cell_type": "code",
   "execution_count": 3,
   "metadata": {},
   "outputs": [],
   "source": [
    "cols = [\"pollen_utsunomiya\", \"pollen_chiba\", \"pollen_tokyo\"]\n"
   ]
  },
  {
   "cell_type": "code",
   "execution_count": 4,
   "metadata": {},
   "outputs": [],
   "source": [
    "_df = pd.read_csv(\"../input/train_v2.csv\", index_col=None)\n"
   ]
  },
  {
   "cell_type": "code",
   "execution_count": 5,
   "metadata": {},
   "outputs": [],
   "source": [
    "def getNearestValue(list, num):\n",
    "    \"\"\"\n",
    "    https://qiita.com/icchi_h/items/fc0df3abb02b51f81657\n",
    "    概要: リストからある値に最も近い値を返却する関数\n",
    "    @param list: データ配列\n",
    "    @param num: 対象値\n",
    "    @return 対象値に最も近い値\n",
    "    \"\"\"\n",
    "\n",
    "    # リスト要素と対象値の差分を計算し最小値のインデックスを取得\n",
    "    idx = np.abs(np.asarray(list) - num).argmin()\n",
    "    return list[idx]\n"
   ]
  },
  {
   "cell_type": "code",
   "execution_count": 6,
   "metadata": {},
   "outputs": [],
   "source": [
    "lgbm_score = 12.22388\n",
    "lgbm_hosei_score = 12.46269\n",
    "catboost_score = 12.36318\n",
    "lgbm_q_50_score = 12.26368\n",
    "lgbm_q_50k_score = 15.25373\n",
    "lgbm_q_20_score = 13.41791\n",
    "svr_score = 12.44279\n",
    "mlp_score = 12.71144\t\n"
   ]
  },
  {
   "cell_type": "code",
   "execution_count": 7,
   "metadata": {},
   "outputs": [
    {
     "name": "stdout",
     "output_type": "stream",
     "text": [
      "pollen_utsunomiya\n",
      "pollen_chiba\n",
      "pollen_tokyo\n"
     ]
    }
   ],
   "source": [
    "df = pd.DataFrame()\n",
    "df[\"datetime\"] = df_lgbm[\"datetime\"]\n",
    "for col in cols:\n",
    "    pollen_list = list(set(_df[col].tolist()))    \n",
    "\n",
    "    if col == \"pollen_utsunomiya\":\n",
    "        print(col)\n",
    "        score_list = [lgbm_score, lgbm_hosei_score, lgbm_q_50_score, svr_score, mlp_score]        \n",
    "\n",
    "        s = sum([100 - x for x in score_list])\n",
    "        w_lgbm = (100 - lgbm_score) / s\n",
    "        w_lgbm_hosei = (100 - lgbm_hosei_score) / s\n",
    "        w_lgbm_q_50 = (100 - lgbm_q_50_score) / s\n",
    "        w_svr = (100 - svr_score) / s\n",
    "        w_mlp = (100 - mlp_score) / s\n",
    "\n",
    "        df[col] = (\n",
    "            (df_lgbm[col] * w_lgbm)\n",
    "            + (df_lgbm_hosei[col] * w_lgbm_hosei)\n",
    "            + (df_lgbm_q_50[col] * w_lgbm_q_50)\n",
    "            + (df_svr[col] * w_svr)\n",
    "            + (df_mlp[col] * w_mlp)\n",
    "        )\n",
    "\n",
    "    elif col == \"pollen_tokyo\":\n",
    "        print(col)        \n",
    "        score_list = [lgbm_hosei_score, lgbm_q_50k_score]\n",
    "        s = sum([100 - x for x in score_list])        \n",
    "        w_lgbm_hosei = (100 - lgbm_hosei_score) / s        \n",
    "        w_lgbm_q_50k = (100 - lgbm_q_50k_score) / s\n",
    "\n",
    "        df[col] = (            \n",
    "            (df_lgbm_hosei[col] * w_lgbm_hosei)            \n",
    "            + (df_lgbm_q_50k[col] * w_lgbm_q_50k)\n",
    "        )\n",
    "\n",
    "    elif col == \"pollen_chiba\":\n",
    "        print(col)        \n",
    "        score_list = [lgbm_hosei_score, lgbm_q_50k_score]\n",
    "        s = sum([100 - x for x in score_list])        \n",
    "        w_lgbm_hosei = (100 - lgbm_hosei_score) / s        \n",
    "        w_lgbm_q_50k = (100 - lgbm_q_50k_score) / s\n",
    "        df[col] = (            \n",
    "            (df_lgbm_hosei[col] * w_lgbm_hosei)            \n",
    "            + (df_lgbm_q_50k[col] * w_lgbm_q_50k)\n",
    "        )\n",
    "    else:\n",
    "        raise ValueError(\"unk\")\n",
    "\n",
    "    df[col] = np.array([getNearestValue(pollen_list, v) for v in df[col]])\n",
    "\n",
    "df = df[[\"datetime\"] + cols]\n",
    "df.to_csv(\"sub_ensemble_6.csv\", index=None)\n"
   ]
  },
  {
   "attachments": {},
   "cell_type": "markdown",
   "metadata": {},
   "source": [
    "- utにmlpを追加 11.94527 -> sub6\n",
    "- utにcatboost追加 11.96517\n",
    "- cb/tk に svr_q_50k 追加　12.12438\n",
    "- utにsvr追加 11.94527 -> sub_5\n",
    "- utにq_20を追加 11.96517\n",
    "- ut は hoseiと普通のやつのみ 12.00498\n",
    "- cb/tk は q_50k のみ 12.08458\n",
    "- cb/tk は hosei と q_50k 11.96517\n",
    "- utはhoseのみ 12.28358\n",
    "- utのみq20を入れる 12.10448\n",
    "- ut以外q50k入れる 12.04478\n",
    "- svr 入れる 12.16418\n",
    "- q50にしたやつ  12.14428\n",
    "- catboost入れる 12.18408\n",
    "- LBのスコアで重みづけてアンサンブル 12.14428"
   ]
  },
  {
   "cell_type": "code",
   "execution_count": null,
   "metadata": {},
   "outputs": [],
   "source": []
  },
  {
   "cell_type": "code",
   "execution_count": null,
   "metadata": {},
   "outputs": [],
   "source": []
  },
  {
   "cell_type": "code",
   "execution_count": null,
   "metadata": {},
   "outputs": [],
   "source": []
  },
  {
   "cell_type": "code",
   "execution_count": null,
   "metadata": {},
   "outputs": [],
   "source": []
  },
  {
   "cell_type": "code",
   "execution_count": 8,
   "metadata": {},
   "outputs": [
    {
     "data": {
      "text/plain": [
       "(3244.0, 1440.0, 1700.0)"
      ]
     },
     "execution_count": 8,
     "metadata": {},
     "output_type": "execute_result"
    }
   ],
   "source": [
    "df[\"pollen_utsunomiya\"].sum(), df[\"pollen_tokyo\"].sum(), df[\"pollen_chiba\"].sum()\n"
   ]
  },
  {
   "cell_type": "code",
   "execution_count": 9,
   "metadata": {},
   "outputs": [],
   "source": [
    "total_pollen_2020_ut = 47848.946232729206\n",
    "total_pollen_2020_tk = 28232.168622513003\n",
    "total_pollen_2020_cb = 32978.780406463025\n",
    "\n",
    "test_term_pollen_rate_ut = 13.401466765933876\n",
    "test_term_pollen_rate_tk = 15.31909333922222\n",
    "test_term_pollen_rate_cb = 12.843262552256846\n",
    "\n",
    "test_term_pollen_ut = total_pollen_2020_ut * (test_term_pollen_rate_ut / 100)\n",
    "test_term_pollen_tk = total_pollen_2020_tk * (test_term_pollen_rate_tk / 100)\n",
    "test_term_pollen_cb = total_pollen_2020_cb * (test_term_pollen_rate_cb / 100)\n"
   ]
  },
  {
   "cell_type": "code",
   "execution_count": 10,
   "metadata": {},
   "outputs": [
    {
     "data": {
      "text/plain": [
       "(6412.460627228774, 4324.912262969375, 4235.551354134283)"
      ]
     },
     "execution_count": 10,
     "metadata": {},
     "output_type": "execute_result"
    }
   ],
   "source": [
    "test_term_pollen_ut, test_term_pollen_tk, test_term_pollen_cb\n"
   ]
  },
  {
   "attachments": {},
   "cell_type": "markdown",
   "metadata": {},
   "source": [
    "- lgbm_hosei/ lgbm: LB: 12.14428"
   ]
  },
  {
   "cell_type": "markdown",
   "metadata": {},
   "source": []
  }
 ],
 "metadata": {
  "kernelspec": {
   "display_name": "Python 3.7.12 ('base')",
   "language": "python",
   "name": "python3"
  },
  "language_info": {
   "codemirror_mode": {
    "name": "ipython",
    "version": 3
   },
   "file_extension": ".py",
   "mimetype": "text/x-python",
   "name": "python",
   "nbconvert_exporter": "python",
   "pygments_lexer": "ipython3",
   "version": "3.7.12"
  },
  "orig_nbformat": 4,
  "vscode": {
   "interpreter": {
    "hash": "d4d1e4263499bec80672ea0156c357c1ee493ec2b1c70f0acce89fc37c4a6abe"
   }
  }
 },
 "nbformat": 4,
 "nbformat_minor": 2
}
