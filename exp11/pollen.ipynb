{
 "cells": [
  {
   "cell_type": "code",
   "execution_count": 1,
   "metadata": {},
   "outputs": [],
   "source": [
    "import pandas as pd\n",
    "import numpy as np\n",
    "import seaborn as sns\n",
    "import matplotlib.pyplot as plt\n",
    "from typing import List, Tuple, Dict, Union"
   ]
  },
  {
   "cell_type": "code",
   "execution_count": 2,
   "metadata": {},
   "outputs": [],
   "source": [
    "class Config:\n",
    "    train_path = \"../input/train_v2.csv\"\n",
    "    test_path = \"../input/test_v2.csv\"\n",
    "    sample_submission_path = \"../input/sample_submission.csv\"\n",
    "    output_path = \"../submission/\"\n",
    "    seed = 42\n",
    "    n_splits = 4"
   ]
  },
  {
   "cell_type": "code",
   "execution_count": 3,
   "metadata": {},
   "outputs": [],
   "source": [
    "df_train = pd.read_csv(Config.train_path)\n",
    "df_test = pd.read_csv(Config.test_path)"
   ]
  },
  {
   "cell_type": "code",
   "execution_count": 4,
   "metadata": {},
   "outputs": [
    {
     "data": {
      "text/html": [
       "<div>\n",
       "<style scoped>\n",
       "    .dataframe tbody tr th:only-of-type {\n",
       "        vertical-align: middle;\n",
       "    }\n",
       "\n",
       "    .dataframe tbody tr th {\n",
       "        vertical-align: top;\n",
       "    }\n",
       "\n",
       "    .dataframe thead th {\n",
       "        text-align: right;\n",
       "    }\n",
       "</style>\n",
       "<table border=\"1\" class=\"dataframe\">\n",
       "  <thead>\n",
       "    <tr style=\"text-align: right;\">\n",
       "      <th></th>\n",
       "      <th>datetime</th>\n",
       "      <th>precipitation_utsunomiya</th>\n",
       "      <th>precipitation_chiba</th>\n",
       "      <th>precipitation_tokyo</th>\n",
       "      <th>temperature_utsunomiya</th>\n",
       "      <th>temperature_chiba</th>\n",
       "      <th>temperature_tokyo</th>\n",
       "      <th>winddirection_utsunomiya</th>\n",
       "      <th>winddirection_chiba</th>\n",
       "      <th>winddirection_tokyo</th>\n",
       "      <th>windspeed_utsunomiya</th>\n",
       "      <th>windspeed_chiba</th>\n",
       "      <th>windspeed_tokyo</th>\n",
       "      <th>pollen_utsunomiya</th>\n",
       "      <th>pollen_chiba</th>\n",
       "      <th>pollen_tokyo</th>\n",
       "    </tr>\n",
       "  </thead>\n",
       "  <tbody>\n",
       "    <tr>\n",
       "      <th>0</th>\n",
       "      <td>2017020101</td>\n",
       "      <td>0.0</td>\n",
       "      <td>0.0</td>\n",
       "      <td>0.0</td>\n",
       "      <td>-1.0</td>\n",
       "      <td>4.1</td>\n",
       "      <td>2.9</td>\n",
       "      <td>16</td>\n",
       "      <td>1</td>\n",
       "      <td>2</td>\n",
       "      <td>2.7</td>\n",
       "      <td>2.5</td>\n",
       "      <td>1.3</td>\n",
       "      <td>0.0</td>\n",
       "      <td>8.0</td>\n",
       "      <td>0.0</td>\n",
       "    </tr>\n",
       "    <tr>\n",
       "      <th>1</th>\n",
       "      <td>2017020102</td>\n",
       "      <td>0.0</td>\n",
       "      <td>0.0</td>\n",
       "      <td>0.0</td>\n",
       "      <td>-1.1</td>\n",
       "      <td>4.2</td>\n",
       "      <td>2.6</td>\n",
       "      <td>1</td>\n",
       "      <td>1</td>\n",
       "      <td>1</td>\n",
       "      <td>3.3</td>\n",
       "      <td>1.5</td>\n",
       "      <td>0.9</td>\n",
       "      <td>0.0</td>\n",
       "      <td>24.0</td>\n",
       "      <td>4.0</td>\n",
       "    </tr>\n",
       "    <tr>\n",
       "      <th>2</th>\n",
       "      <td>2017020103</td>\n",
       "      <td>0.0</td>\n",
       "      <td>0.0</td>\n",
       "      <td>0.0</td>\n",
       "      <td>-0.7</td>\n",
       "      <td>4.2</td>\n",
       "      <td>2.4</td>\n",
       "      <td>1</td>\n",
       "      <td>15</td>\n",
       "      <td>16</td>\n",
       "      <td>4.0</td>\n",
       "      <td>1.7</td>\n",
       "      <td>0.6</td>\n",
       "      <td>4.0</td>\n",
       "      <td>32.0</td>\n",
       "      <td>12.0</td>\n",
       "    </tr>\n",
       "    <tr>\n",
       "      <th>3</th>\n",
       "      <td>2017020104</td>\n",
       "      <td>0.0</td>\n",
       "      <td>0.0</td>\n",
       "      <td>0.0</td>\n",
       "      <td>-1.1</td>\n",
       "      <td>4.4</td>\n",
       "      <td>1.8</td>\n",
       "      <td>1</td>\n",
       "      <td>15</td>\n",
       "      <td>1</td>\n",
       "      <td>4.1</td>\n",
       "      <td>3.1</td>\n",
       "      <td>1.4</td>\n",
       "      <td>0.0</td>\n",
       "      <td>12.0</td>\n",
       "      <td>0.0</td>\n",
       "    </tr>\n",
       "    <tr>\n",
       "      <th>4</th>\n",
       "      <td>2017020105</td>\n",
       "      <td>0.0</td>\n",
       "      <td>0.0</td>\n",
       "      <td>0.0</td>\n",
       "      <td>-1.2</td>\n",
       "      <td>4.1</td>\n",
       "      <td>1.5</td>\n",
       "      <td>2</td>\n",
       "      <td>14</td>\n",
       "      <td>14</td>\n",
       "      <td>3.7</td>\n",
       "      <td>3.4</td>\n",
       "      <td>0.9</td>\n",
       "      <td>0.0</td>\n",
       "      <td>32.0</td>\n",
       "      <td>4.0</td>\n",
       "    </tr>\n",
       "  </tbody>\n",
       "</table>\n",
       "</div>"
      ],
      "text/plain": [
       "     datetime  precipitation_utsunomiya  precipitation_chiba  \\\n",
       "0  2017020101                       0.0                  0.0   \n",
       "1  2017020102                       0.0                  0.0   \n",
       "2  2017020103                       0.0                  0.0   \n",
       "3  2017020104                       0.0                  0.0   \n",
       "4  2017020105                       0.0                  0.0   \n",
       "\n",
       "  precipitation_tokyo  temperature_utsunomiya temperature_chiba  \\\n",
       "0                 0.0                    -1.0               4.1   \n",
       "1                 0.0                    -1.1               4.2   \n",
       "2                 0.0                    -0.7               4.2   \n",
       "3                 0.0                    -1.1               4.4   \n",
       "4                 0.0                    -1.2               4.1   \n",
       "\n",
       "  temperature_tokyo  winddirection_utsunomiya winddirection_chiba  \\\n",
       "0               2.9                        16                   1   \n",
       "1               2.6                         1                   1   \n",
       "2               2.4                         1                  15   \n",
       "3               1.8                         1                  15   \n",
       "4               1.5                         2                  14   \n",
       "\n",
       "  winddirection_tokyo  windspeed_utsunomiya windspeed_chiba windspeed_tokyo  \\\n",
       "0                   2                   2.7             2.5             1.3   \n",
       "1                   1                   3.3             1.5             0.9   \n",
       "2                  16                   4.0             1.7             0.6   \n",
       "3                   1                   4.1             3.1             1.4   \n",
       "4                  14                   3.7             3.4             0.9   \n",
       "\n",
       "   pollen_utsunomiya  pollen_chiba  pollen_tokyo  \n",
       "0                0.0           8.0           0.0  \n",
       "1                0.0          24.0           4.0  \n",
       "2                4.0          32.0          12.0  \n",
       "3                0.0          12.0           0.0  \n",
       "4                0.0          32.0           4.0  "
      ]
     },
     "execution_count": 4,
     "metadata": {},
     "output_type": "execute_result"
    }
   ],
   "source": [
    "df_train.head()"
   ]
  },
  {
   "cell_type": "code",
   "execution_count": 5,
   "metadata": {},
   "outputs": [
    {
     "data": {
      "text/html": [
       "<div>\n",
       "<style scoped>\n",
       "    .dataframe tbody tr th:only-of-type {\n",
       "        vertical-align: middle;\n",
       "    }\n",
       "\n",
       "    .dataframe tbody tr th {\n",
       "        vertical-align: top;\n",
       "    }\n",
       "\n",
       "    .dataframe thead th {\n",
       "        text-align: right;\n",
       "    }\n",
       "</style>\n",
       "<table border=\"1\" class=\"dataframe\">\n",
       "  <thead>\n",
       "    <tr style=\"text-align: right;\">\n",
       "      <th></th>\n",
       "      <th>datetime</th>\n",
       "      <th>precipitation_utsunomiya</th>\n",
       "      <th>precipitation_chiba</th>\n",
       "      <th>precipitation_tokyo</th>\n",
       "      <th>temperature_utsunomiya</th>\n",
       "      <th>temperature_chiba</th>\n",
       "      <th>temperature_tokyo</th>\n",
       "      <th>winddirection_utsunomiya</th>\n",
       "      <th>winddirection_chiba</th>\n",
       "      <th>winddirection_tokyo</th>\n",
       "      <th>windspeed_utsunomiya</th>\n",
       "      <th>windspeed_chiba</th>\n",
       "      <th>windspeed_tokyo</th>\n",
       "      <th>pollen_utsunomiya</th>\n",
       "      <th>pollen_chiba</th>\n",
       "      <th>pollen_tokyo</th>\n",
       "    </tr>\n",
       "  </thead>\n",
       "  <tbody>\n",
       "    <tr>\n",
       "      <th>3595</th>\n",
       "      <td>2017063020</td>\n",
       "      <td>0.0</td>\n",
       "      <td>0.0</td>\n",
       "      <td>0.0</td>\n",
       "      <td>24.8</td>\n",
       "      <td>24.2</td>\n",
       "      <td>23.0</td>\n",
       "      <td>9</td>\n",
       "      <td>10</td>\n",
       "      <td>7</td>\n",
       "      <td>3.8</td>\n",
       "      <td>5.5</td>\n",
       "      <td>0.9</td>\n",
       "      <td>0.0</td>\n",
       "      <td>0.0</td>\n",
       "      <td>0.0</td>\n",
       "    </tr>\n",
       "    <tr>\n",
       "      <th>3596</th>\n",
       "      <td>2017063021</td>\n",
       "      <td>0.0</td>\n",
       "      <td>0.0</td>\n",
       "      <td>0.0</td>\n",
       "      <td>24.5</td>\n",
       "      <td>24.0</td>\n",
       "      <td>23.2</td>\n",
       "      <td>9</td>\n",
       "      <td>10</td>\n",
       "      <td>9</td>\n",
       "      <td>2.5</td>\n",
       "      <td>5.5</td>\n",
       "      <td>0.7</td>\n",
       "      <td>0.0</td>\n",
       "      <td>0.0</td>\n",
       "      <td>0.0</td>\n",
       "    </tr>\n",
       "    <tr>\n",
       "      <th>3597</th>\n",
       "      <td>2017063022</td>\n",
       "      <td>0.0</td>\n",
       "      <td>0.0</td>\n",
       "      <td>0.0</td>\n",
       "      <td>24.4</td>\n",
       "      <td>24.3</td>\n",
       "      <td>23.1</td>\n",
       "      <td>9</td>\n",
       "      <td>10</td>\n",
       "      <td>10</td>\n",
       "      <td>2.0</td>\n",
       "      <td>5.5</td>\n",
       "      <td>0.5</td>\n",
       "      <td>0.0</td>\n",
       "      <td>0.0</td>\n",
       "      <td>0.0</td>\n",
       "    </tr>\n",
       "    <tr>\n",
       "      <th>3598</th>\n",
       "      <td>2017063023</td>\n",
       "      <td>0.0</td>\n",
       "      <td>0.0</td>\n",
       "      <td>0.0</td>\n",
       "      <td>24.0</td>\n",
       "      <td>24.2</td>\n",
       "      <td>22.7</td>\n",
       "      <td>9</td>\n",
       "      <td>10</td>\n",
       "      <td>13</td>\n",
       "      <td>2.4</td>\n",
       "      <td>5.4</td>\n",
       "      <td>0.3</td>\n",
       "      <td>0.0</td>\n",
       "      <td>0.0</td>\n",
       "      <td>0.0</td>\n",
       "    </tr>\n",
       "    <tr>\n",
       "      <th>3599</th>\n",
       "      <td>2017063024</td>\n",
       "      <td>0.0</td>\n",
       "      <td>0.0</td>\n",
       "      <td>0.0</td>\n",
       "      <td>23.9</td>\n",
       "      <td>24.3</td>\n",
       "      <td>22.4</td>\n",
       "      <td>9</td>\n",
       "      <td>10</td>\n",
       "      <td>1</td>\n",
       "      <td>1.0</td>\n",
       "      <td>4.3</td>\n",
       "      <td>0.5</td>\n",
       "      <td>0.0</td>\n",
       "      <td>0.0</td>\n",
       "      <td>0.0</td>\n",
       "    </tr>\n",
       "  </tbody>\n",
       "</table>\n",
       "</div>"
      ],
      "text/plain": [
       "        datetime  precipitation_utsunomiya  precipitation_chiba  \\\n",
       "3595  2017063020                       0.0                  0.0   \n",
       "3596  2017063021                       0.0                  0.0   \n",
       "3597  2017063022                       0.0                  0.0   \n",
       "3598  2017063023                       0.0                  0.0   \n",
       "3599  2017063024                       0.0                  0.0   \n",
       "\n",
       "     precipitation_tokyo  temperature_utsunomiya temperature_chiba  \\\n",
       "3595                 0.0                    24.8              24.2   \n",
       "3596                 0.0                    24.5              24.0   \n",
       "3597                 0.0                    24.4              24.3   \n",
       "3598                 0.0                    24.0              24.2   \n",
       "3599                 0.0                    23.9              24.3   \n",
       "\n",
       "     temperature_tokyo  winddirection_utsunomiya winddirection_chiba  \\\n",
       "3595              23.0                         9                  10   \n",
       "3596              23.2                         9                  10   \n",
       "3597              23.1                         9                  10   \n",
       "3598              22.7                         9                  10   \n",
       "3599              22.4                         9                  10   \n",
       "\n",
       "     winddirection_tokyo  windspeed_utsunomiya windspeed_chiba  \\\n",
       "3595                   7                   3.8             5.5   \n",
       "3596                   9                   2.5             5.5   \n",
       "3597                  10                   2.0             5.5   \n",
       "3598                  13                   2.4             5.4   \n",
       "3599                   1                   1.0             4.3   \n",
       "\n",
       "     windspeed_tokyo  pollen_utsunomiya  pollen_chiba  pollen_tokyo  \n",
       "3595             0.9                0.0           0.0           0.0  \n",
       "3596             0.7                0.0           0.0           0.0  \n",
       "3597             0.5                0.0           0.0           0.0  \n",
       "3598             0.3                0.0           0.0           0.0  \n",
       "3599             0.5                0.0           0.0           0.0  "
      ]
     },
     "execution_count": 5,
     "metadata": {},
     "output_type": "execute_result"
    }
   ],
   "source": [
    "df_train_2017 = df_train[df_train[\"datetime\"].astype(str).apply(lambda x: x[:4] == \"2017\")].reset_index(drop=True)\n",
    "df_train_2017.tail()"
   ]
  },
  {
   "cell_type": "code",
   "execution_count": 6,
   "metadata": {},
   "outputs": [
    {
     "data": {
      "text/html": [
       "<div>\n",
       "<style scoped>\n",
       "    .dataframe tbody tr th:only-of-type {\n",
       "        vertical-align: middle;\n",
       "    }\n",
       "\n",
       "    .dataframe tbody tr th {\n",
       "        vertical-align: top;\n",
       "    }\n",
       "\n",
       "    .dataframe thead th {\n",
       "        text-align: right;\n",
       "    }\n",
       "</style>\n",
       "<table border=\"1\" class=\"dataframe\">\n",
       "  <thead>\n",
       "    <tr style=\"text-align: right;\">\n",
       "      <th></th>\n",
       "      <th>datetime</th>\n",
       "      <th>precipitation_utsunomiya</th>\n",
       "      <th>precipitation_chiba</th>\n",
       "      <th>precipitation_tokyo</th>\n",
       "      <th>temperature_utsunomiya</th>\n",
       "      <th>temperature_chiba</th>\n",
       "      <th>temperature_tokyo</th>\n",
       "      <th>winddirection_utsunomiya</th>\n",
       "      <th>winddirection_chiba</th>\n",
       "      <th>winddirection_tokyo</th>\n",
       "      <th>windspeed_utsunomiya</th>\n",
       "      <th>windspeed_chiba</th>\n",
       "      <th>windspeed_tokyo</th>\n",
       "      <th>pollen_utsunomiya</th>\n",
       "      <th>pollen_chiba</th>\n",
       "      <th>pollen_tokyo</th>\n",
       "    </tr>\n",
       "  </thead>\n",
       "  <tbody>\n",
       "    <tr>\n",
       "      <th>3595</th>\n",
       "      <td>2018063020</td>\n",
       "      <td>0.0</td>\n",
       "      <td>0.0</td>\n",
       "      <td>0.0</td>\n",
       "      <td>28.0</td>\n",
       "      <td>28.6</td>\n",
       "      <td>27.5</td>\n",
       "      <td>6</td>\n",
       "      <td>9</td>\n",
       "      <td>8</td>\n",
       "      <td>3.2</td>\n",
       "      <td>6.1</td>\n",
       "      <td>5.0</td>\n",
       "      <td>0.0</td>\n",
       "      <td>0.0</td>\n",
       "      <td>0.0</td>\n",
       "    </tr>\n",
       "    <tr>\n",
       "      <th>3596</th>\n",
       "      <td>2018063021</td>\n",
       "      <td>0.0</td>\n",
       "      <td>0.0</td>\n",
       "      <td>0.0</td>\n",
       "      <td>27.5</td>\n",
       "      <td>27.8</td>\n",
       "      <td>26.9</td>\n",
       "      <td>6</td>\n",
       "      <td>8</td>\n",
       "      <td>8</td>\n",
       "      <td>2.9</td>\n",
       "      <td>5.6</td>\n",
       "      <td>4.4</td>\n",
       "      <td>0.0</td>\n",
       "      <td>0.0</td>\n",
       "      <td>0.0</td>\n",
       "    </tr>\n",
       "    <tr>\n",
       "      <th>3597</th>\n",
       "      <td>2018063022</td>\n",
       "      <td>0.0</td>\n",
       "      <td>0.0</td>\n",
       "      <td>0.0</td>\n",
       "      <td>26.9</td>\n",
       "      <td>27.4</td>\n",
       "      <td>26.4</td>\n",
       "      <td>7</td>\n",
       "      <td>8</td>\n",
       "      <td>8</td>\n",
       "      <td>2.6</td>\n",
       "      <td>4.9</td>\n",
       "      <td>2.5</td>\n",
       "      <td>0.0</td>\n",
       "      <td>0.0</td>\n",
       "      <td>0.0</td>\n",
       "    </tr>\n",
       "    <tr>\n",
       "      <th>3598</th>\n",
       "      <td>2018063023</td>\n",
       "      <td>0.0</td>\n",
       "      <td>0.0</td>\n",
       "      <td>0.0</td>\n",
       "      <td>26.2</td>\n",
       "      <td>27.3</td>\n",
       "      <td>26.5</td>\n",
       "      <td>8</td>\n",
       "      <td>9</td>\n",
       "      <td>8</td>\n",
       "      <td>2.4</td>\n",
       "      <td>6.3</td>\n",
       "      <td>3.1</td>\n",
       "      <td>0.0</td>\n",
       "      <td>0.0</td>\n",
       "      <td>0.0</td>\n",
       "    </tr>\n",
       "    <tr>\n",
       "      <th>3599</th>\n",
       "      <td>2018063024</td>\n",
       "      <td>0.0</td>\n",
       "      <td>0.0</td>\n",
       "      <td>0.0</td>\n",
       "      <td>25.8</td>\n",
       "      <td>27.3</td>\n",
       "      <td>25.8</td>\n",
       "      <td>8</td>\n",
       "      <td>9</td>\n",
       "      <td>9</td>\n",
       "      <td>2.1</td>\n",
       "      <td>6.3</td>\n",
       "      <td>3.3</td>\n",
       "      <td>0.0</td>\n",
       "      <td>0.0</td>\n",
       "      <td>0.0</td>\n",
       "    </tr>\n",
       "  </tbody>\n",
       "</table>\n",
       "</div>"
      ],
      "text/plain": [
       "        datetime  precipitation_utsunomiya  precipitation_chiba  \\\n",
       "3595  2018063020                       0.0                  0.0   \n",
       "3596  2018063021                       0.0                  0.0   \n",
       "3597  2018063022                       0.0                  0.0   \n",
       "3598  2018063023                       0.0                  0.0   \n",
       "3599  2018063024                       0.0                  0.0   \n",
       "\n",
       "     precipitation_tokyo  temperature_utsunomiya temperature_chiba  \\\n",
       "3595                 0.0                    28.0              28.6   \n",
       "3596                 0.0                    27.5              27.8   \n",
       "3597                 0.0                    26.9              27.4   \n",
       "3598                 0.0                    26.2              27.3   \n",
       "3599                 0.0                    25.8              27.3   \n",
       "\n",
       "     temperature_tokyo  winddirection_utsunomiya winddirection_chiba  \\\n",
       "3595              27.5                         6                   9   \n",
       "3596              26.9                         6                   8   \n",
       "3597              26.4                         7                   8   \n",
       "3598              26.5                         8                   9   \n",
       "3599              25.8                         8                   9   \n",
       "\n",
       "     winddirection_tokyo  windspeed_utsunomiya windspeed_chiba  \\\n",
       "3595                   8                   3.2             6.1   \n",
       "3596                   8                   2.9             5.6   \n",
       "3597                   8                   2.6             4.9   \n",
       "3598                   8                   2.4             6.3   \n",
       "3599                   9                   2.1             6.3   \n",
       "\n",
       "     windspeed_tokyo  pollen_utsunomiya  pollen_chiba  pollen_tokyo  \n",
       "3595             5.0                0.0           0.0           0.0  \n",
       "3596             4.4                0.0           0.0           0.0  \n",
       "3597             2.5                0.0           0.0           0.0  \n",
       "3598             3.1                0.0           0.0           0.0  \n",
       "3599             3.3                0.0           0.0           0.0  "
      ]
     },
     "execution_count": 6,
     "metadata": {},
     "output_type": "execute_result"
    }
   ],
   "source": [
    "df_train_2018 = df_train[df_train[\"datetime\"].astype(str).apply(lambda x: x[:4] == \"2018\")].reset_index(drop=True)\n",
    "df_train_2018.tail()"
   ]
  },
  {
   "cell_type": "code",
   "execution_count": 7,
   "metadata": {},
   "outputs": [
    {
     "data": {
      "text/html": [
       "<div>\n",
       "<style scoped>\n",
       "    .dataframe tbody tr th:only-of-type {\n",
       "        vertical-align: middle;\n",
       "    }\n",
       "\n",
       "    .dataframe tbody tr th {\n",
       "        vertical-align: top;\n",
       "    }\n",
       "\n",
       "    .dataframe thead th {\n",
       "        text-align: right;\n",
       "    }\n",
       "</style>\n",
       "<table border=\"1\" class=\"dataframe\">\n",
       "  <thead>\n",
       "    <tr style=\"text-align: right;\">\n",
       "      <th></th>\n",
       "      <th>datetime</th>\n",
       "      <th>precipitation_utsunomiya</th>\n",
       "      <th>precipitation_chiba</th>\n",
       "      <th>precipitation_tokyo</th>\n",
       "      <th>temperature_utsunomiya</th>\n",
       "      <th>temperature_chiba</th>\n",
       "      <th>temperature_tokyo</th>\n",
       "      <th>winddirection_utsunomiya</th>\n",
       "      <th>winddirection_chiba</th>\n",
       "      <th>winddirection_tokyo</th>\n",
       "      <th>windspeed_utsunomiya</th>\n",
       "      <th>windspeed_chiba</th>\n",
       "      <th>windspeed_tokyo</th>\n",
       "      <th>pollen_utsunomiya</th>\n",
       "      <th>pollen_chiba</th>\n",
       "      <th>pollen_tokyo</th>\n",
       "    </tr>\n",
       "  </thead>\n",
       "  <tbody>\n",
       "    <tr>\n",
       "      <th>3595</th>\n",
       "      <td>2019063020</td>\n",
       "      <td>0.0</td>\n",
       "      <td>0.0</td>\n",
       "      <td>0.0</td>\n",
       "      <td>22.6</td>\n",
       "      <td>25.1</td>\n",
       "      <td>22.7</td>\n",
       "      <td>7</td>\n",
       "      <td>11</td>\n",
       "      <td>16</td>\n",
       "      <td>1.3</td>\n",
       "      <td>4.4</td>\n",
       "      <td>0.6</td>\n",
       "      <td>0.0</td>\n",
       "      <td>0.0</td>\n",
       "      <td>0.0</td>\n",
       "    </tr>\n",
       "    <tr>\n",
       "      <th>3596</th>\n",
       "      <td>2019063021</td>\n",
       "      <td>0.0</td>\n",
       "      <td>0.0</td>\n",
       "      <td>0.0</td>\n",
       "      <td>22.2</td>\n",
       "      <td>25.2</td>\n",
       "      <td>22.7</td>\n",
       "      <td>8</td>\n",
       "      <td>10</td>\n",
       "      <td>2</td>\n",
       "      <td>1.2</td>\n",
       "      <td>6.2</td>\n",
       "      <td>1.1</td>\n",
       "      <td>0.0</td>\n",
       "      <td>0.0</td>\n",
       "      <td>0.0</td>\n",
       "    </tr>\n",
       "    <tr>\n",
       "      <th>3597</th>\n",
       "      <td>2019063022</td>\n",
       "      <td>0.0</td>\n",
       "      <td>0.0</td>\n",
       "      <td>0.0</td>\n",
       "      <td>22.5</td>\n",
       "      <td>24.7</td>\n",
       "      <td>22.4</td>\n",
       "      <td>4</td>\n",
       "      <td>12</td>\n",
       "      <td>16</td>\n",
       "      <td>0.6</td>\n",
       "      <td>3.1</td>\n",
       "      <td>0.7</td>\n",
       "      <td>0.0</td>\n",
       "      <td>0.0</td>\n",
       "      <td>0.0</td>\n",
       "    </tr>\n",
       "    <tr>\n",
       "      <th>3598</th>\n",
       "      <td>2019063023</td>\n",
       "      <td>0.0</td>\n",
       "      <td>0.0</td>\n",
       "      <td>0.0</td>\n",
       "      <td>22.1</td>\n",
       "      <td>23.0</td>\n",
       "      <td>22.2</td>\n",
       "      <td>5</td>\n",
       "      <td>1</td>\n",
       "      <td>15</td>\n",
       "      <td>3.0</td>\n",
       "      <td>2.5</td>\n",
       "      <td>0.5</td>\n",
       "      <td>0.0</td>\n",
       "      <td>0.0</td>\n",
       "      <td>0.0</td>\n",
       "    </tr>\n",
       "    <tr>\n",
       "      <th>3599</th>\n",
       "      <td>2019063024</td>\n",
       "      <td>0.0</td>\n",
       "      <td>0.0</td>\n",
       "      <td>0.0</td>\n",
       "      <td>21.9</td>\n",
       "      <td>22.8</td>\n",
       "      <td>21.9</td>\n",
       "      <td>7</td>\n",
       "      <td>1</td>\n",
       "      <td>0</td>\n",
       "      <td>2.4</td>\n",
       "      <td>2.0</td>\n",
       "      <td>0.2</td>\n",
       "      <td>0.0</td>\n",
       "      <td>0.0</td>\n",
       "      <td>0.0</td>\n",
       "    </tr>\n",
       "  </tbody>\n",
       "</table>\n",
       "</div>"
      ],
      "text/plain": [
       "        datetime  precipitation_utsunomiya  precipitation_chiba  \\\n",
       "3595  2019063020                       0.0                  0.0   \n",
       "3596  2019063021                       0.0                  0.0   \n",
       "3597  2019063022                       0.0                  0.0   \n",
       "3598  2019063023                       0.0                  0.0   \n",
       "3599  2019063024                       0.0                  0.0   \n",
       "\n",
       "     precipitation_tokyo  temperature_utsunomiya temperature_chiba  \\\n",
       "3595                 0.0                    22.6              25.1   \n",
       "3596                 0.0                    22.2              25.2   \n",
       "3597                 0.0                    22.5              24.7   \n",
       "3598                 0.0                    22.1              23.0   \n",
       "3599                 0.0                    21.9              22.8   \n",
       "\n",
       "     temperature_tokyo  winddirection_utsunomiya winddirection_chiba  \\\n",
       "3595              22.7                         7                  11   \n",
       "3596              22.7                         8                  10   \n",
       "3597              22.4                         4                  12   \n",
       "3598              22.2                         5                   1   \n",
       "3599              21.9                         7                   1   \n",
       "\n",
       "     winddirection_tokyo  windspeed_utsunomiya windspeed_chiba  \\\n",
       "3595                  16                   1.3             4.4   \n",
       "3596                   2                   1.2             6.2   \n",
       "3597                  16                   0.6             3.1   \n",
       "3598                  15                   3.0             2.5   \n",
       "3599                   0                   2.4             2.0   \n",
       "\n",
       "     windspeed_tokyo  pollen_utsunomiya  pollen_chiba  pollen_tokyo  \n",
       "3595             0.6                0.0           0.0           0.0  \n",
       "3596             1.1                0.0           0.0           0.0  \n",
       "3597             0.7                0.0           0.0           0.0  \n",
       "3598             0.5                0.0           0.0           0.0  \n",
       "3599             0.2                0.0           0.0           0.0  "
      ]
     },
     "execution_count": 7,
     "metadata": {},
     "output_type": "execute_result"
    }
   ],
   "source": [
    "df_train_2019 = df_train[df_train[\"datetime\"].astype(str).apply(lambda x: x[:4] == \"2019\")].reset_index(drop=True)\n",
    "df_train_2019.tail()"
   ]
  },
  {
   "cell_type": "code",
   "execution_count": 8,
   "metadata": {},
   "outputs": [
    {
     "data": {
      "text/html": [
       "<div>\n",
       "<style scoped>\n",
       "    .dataframe tbody tr th:only-of-type {\n",
       "        vertical-align: middle;\n",
       "    }\n",
       "\n",
       "    .dataframe tbody tr th {\n",
       "        vertical-align: top;\n",
       "    }\n",
       "\n",
       "    .dataframe thead th {\n",
       "        text-align: right;\n",
       "    }\n",
       "</style>\n",
       "<table border=\"1\" class=\"dataframe\">\n",
       "  <thead>\n",
       "    <tr style=\"text-align: right;\">\n",
       "      <th></th>\n",
       "      <th>datetime</th>\n",
       "      <th>precipitation_utsunomiya</th>\n",
       "      <th>precipitation_chiba</th>\n",
       "      <th>precipitation_tokyo</th>\n",
       "      <th>temperature_utsunomiya</th>\n",
       "      <th>temperature_chiba</th>\n",
       "      <th>temperature_tokyo</th>\n",
       "      <th>winddirection_utsunomiya</th>\n",
       "      <th>winddirection_chiba</th>\n",
       "      <th>winddirection_tokyo</th>\n",
       "      <th>windspeed_utsunomiya</th>\n",
       "      <th>windspeed_chiba</th>\n",
       "      <th>windspeed_tokyo</th>\n",
       "      <th>pollen_utsunomiya</th>\n",
       "      <th>pollen_chiba</th>\n",
       "      <th>pollen_tokyo</th>\n",
       "    </tr>\n",
       "  </thead>\n",
       "  <tbody>\n",
       "    <tr>\n",
       "      <th>1435</th>\n",
       "      <td>2020033120</td>\n",
       "      <td>0.0</td>\n",
       "      <td>0.0</td>\n",
       "      <td>0</td>\n",
       "      <td>10.0</td>\n",
       "      <td>11.5</td>\n",
       "      <td>9.4</td>\n",
       "      <td>16</td>\n",
       "      <td>2</td>\n",
       "      <td>16</td>\n",
       "      <td>2.4</td>\n",
       "      <td>2.6</td>\n",
       "      <td>0.7</td>\n",
       "      <td>8.0</td>\n",
       "      <td>8.0</td>\n",
       "      <td>4.0</td>\n",
       "    </tr>\n",
       "    <tr>\n",
       "      <th>1436</th>\n",
       "      <td>2020033121</td>\n",
       "      <td>0.0</td>\n",
       "      <td>0.0</td>\n",
       "      <td>0</td>\n",
       "      <td>10.1</td>\n",
       "      <td>11.3</td>\n",
       "      <td>8.9</td>\n",
       "      <td>15</td>\n",
       "      <td>15</td>\n",
       "      <td>14</td>\n",
       "      <td>2.4</td>\n",
       "      <td>1.7</td>\n",
       "      <td>1.3</td>\n",
       "      <td>8.0</td>\n",
       "      <td>4.0</td>\n",
       "      <td>4.0</td>\n",
       "    </tr>\n",
       "    <tr>\n",
       "      <th>1437</th>\n",
       "      <td>2020033122</td>\n",
       "      <td>0.0</td>\n",
       "      <td>0.0</td>\n",
       "      <td>0</td>\n",
       "      <td>9.8</td>\n",
       "      <td>11.3</td>\n",
       "      <td>8.8</td>\n",
       "      <td>3</td>\n",
       "      <td>15</td>\n",
       "      <td>15</td>\n",
       "      <td>1.2</td>\n",
       "      <td>2.7</td>\n",
       "      <td>0.9</td>\n",
       "      <td>0.0</td>\n",
       "      <td>4.0</td>\n",
       "      <td>0.0</td>\n",
       "    </tr>\n",
       "    <tr>\n",
       "      <th>1438</th>\n",
       "      <td>2020033123</td>\n",
       "      <td>0.5</td>\n",
       "      <td>0.0</td>\n",
       "      <td>0</td>\n",
       "      <td>9.7</td>\n",
       "      <td>10.9</td>\n",
       "      <td>8.9</td>\n",
       "      <td>16</td>\n",
       "      <td>16</td>\n",
       "      <td>1</td>\n",
       "      <td>0.5</td>\n",
       "      <td>2.9</td>\n",
       "      <td>0.6</td>\n",
       "      <td>0.0</td>\n",
       "      <td>0.0</td>\n",
       "      <td>0.0</td>\n",
       "    </tr>\n",
       "    <tr>\n",
       "      <th>1439</th>\n",
       "      <td>2020033124</td>\n",
       "      <td>0.0</td>\n",
       "      <td>0.0</td>\n",
       "      <td>0</td>\n",
       "      <td>9.7</td>\n",
       "      <td>10.7</td>\n",
       "      <td>8.9</td>\n",
       "      <td>16</td>\n",
       "      <td>1</td>\n",
       "      <td>16</td>\n",
       "      <td>1.0</td>\n",
       "      <td>2.7</td>\n",
       "      <td>0.4</td>\n",
       "      <td>0.0</td>\n",
       "      <td>8.0</td>\n",
       "      <td>0.0</td>\n",
       "    </tr>\n",
       "  </tbody>\n",
       "</table>\n",
       "</div>"
      ],
      "text/plain": [
       "        datetime  precipitation_utsunomiya  precipitation_chiba  \\\n",
       "1435  2020033120                       0.0                  0.0   \n",
       "1436  2020033121                       0.0                  0.0   \n",
       "1437  2020033122                       0.0                  0.0   \n",
       "1438  2020033123                       0.5                  0.0   \n",
       "1439  2020033124                       0.0                  0.0   \n",
       "\n",
       "     precipitation_tokyo  temperature_utsunomiya temperature_chiba  \\\n",
       "1435                   0                    10.0              11.5   \n",
       "1436                   0                    10.1              11.3   \n",
       "1437                   0                     9.8              11.3   \n",
       "1438                   0                     9.7              10.9   \n",
       "1439                   0                     9.7              10.7   \n",
       "\n",
       "     temperature_tokyo  winddirection_utsunomiya winddirection_chiba  \\\n",
       "1435               9.4                        16                   2   \n",
       "1436               8.9                        15                  15   \n",
       "1437               8.8                         3                  15   \n",
       "1438               8.9                        16                  16   \n",
       "1439               8.9                        16                   1   \n",
       "\n",
       "     winddirection_tokyo  windspeed_utsunomiya windspeed_chiba  \\\n",
       "1435                  16                   2.4             2.6   \n",
       "1436                  14                   2.4             1.7   \n",
       "1437                  15                   1.2             2.7   \n",
       "1438                   1                   0.5             2.9   \n",
       "1439                  16                   1.0             2.7   \n",
       "\n",
       "     windspeed_tokyo  pollen_utsunomiya  pollen_chiba  pollen_tokyo  \n",
       "1435             0.7                8.0           8.0           4.0  \n",
       "1436             1.3                8.0           4.0           4.0  \n",
       "1437             0.9                0.0           4.0           0.0  \n",
       "1438             0.6                0.0           0.0           0.0  \n",
       "1439             0.4                0.0           8.0           0.0  "
      ]
     },
     "execution_count": 8,
     "metadata": {},
     "output_type": "execute_result"
    }
   ],
   "source": [
    "df_train_2020 = df_train[df_train[\"datetime\"].astype(str).apply(lambda x: x[:4] == \"2020\")].reset_index(drop=True)\n",
    "df_train_2020.tail()"
   ]
  },
  {
   "cell_type": "code",
   "execution_count": null,
   "metadata": {},
   "outputs": [],
   "source": [
    "    "
   ]
  },
  {
   "cell_type": "code",
   "execution_count": 9,
   "metadata": {},
   "outputs": [],
   "source": [
    "def get_accum_pollen_temp(df: pd.DataFrame, target_pref: str, only_temp=False) -> pd.DataFrame:\n",
    "    df_tmp = df.copy()    \n",
    "    df_tmp[\"datetime\"] = df_tmp[\"datetime\"].apply(lambda x: str(x)[4: 8])\n",
    "    df_tmp[f\"temperature_{target_pref}\"] = df_tmp[f\"temperature_{target_pref}\"].replace(\"欠測\", 0).astype(np.float)\n",
    "    df_tmp[f\"pollen_{target_pref}\"] = df_tmp[f\"pollen_{target_pref}\"].replace(\"欠測\", 0).astype(np.float)\n",
    "        \n",
    "    df_tempera_mean = df_tmp[[\"datetime\", f\"temperature_{target_pref}\"]].groupby(\"datetime\").mean().reset_index()\n",
    "    df_pollen_sum = df_tmp[[\"datetime\", f\"pollen_{target_pref}\"]].groupby(\"datetime\").sum().reset_index()\n",
    "\n",
    "    #print(df_tempera_mean)\n",
    "    #print(df_pollen_sum)\n",
    "    df_daily_agg = df_tempera_mean.merge(df_pollen_sum, on=\"datetime\")\n",
    "\n",
    "    #print(df_daily_agg)\n",
    "    \n",
    "    df_daily_agg[\"sekisan_ondo\"] = df_daily_agg[f\"temperature_{target_pref}\"].cumsum()\n",
    "    df_daily_agg.loc[df_daily_agg[f\"temperature_{target_pref}\"] <0, f\"temperature_{target_pref}\"] = 0\n",
    "    \n",
    "    df_daily_agg.loc[df_daily_agg[f\"pollen_{target_pref}\"] <0, f\"pollen_{target_pref}\"] = 0\n",
    "    df_daily_agg[\"sekisan_pollen\"] = df_daily_agg[f\"pollen_{target_pref}\"].cumsum()        \n",
    "\n",
    "    if only_temp:\n",
    "        return df_daily_agg\n",
    "    \n",
    "    df_daily_agg[\"relative_sekisan_pollen\"] = df_daily_agg[\"sekisan_pollen\"] * (100 / df_daily_agg[\"sekisan_pollen\"].max())\n",
    "\n",
    "    return df_daily_agg\n",
    "\n"
   ]
  },
  {
   "cell_type": "code",
   "execution_count": 10,
   "metadata": {},
   "outputs": [],
   "source": [
    "from scipy.optimize import leastsq\n",
    "\n",
    "def target_func(prm, x, y):\n",
    "    a, b = prm[0], prm[1]\n",
    "    return y - (100 * np.exp(a * np.exp(b * x)))\n",
    "\n",
    "def func(prm, x):\n",
    "    a, b = prm[0], prm[1]\n",
    "    return 100 * (np.exp(a * np.exp(b * x)))"
   ]
  },
  {
   "cell_type": "code",
   "execution_count": 11,
   "metadata": {},
   "outputs": [],
   "source": [
    "def get_total_pollen_2020(\n",
    "    dfs: List[pd.DataFrame], target_df: pd.DataFrame\n",
    ") -> Tuple[float, float, float, pd.DataFrame]:\n",
    "    \n",
    "    df_accum_2017, df_accum_2018, df_accum_2019 = dfs\n",
    "    df_accum_2020 = target_df\n",
    "\n",
    "    x = (\n",
    "        df_accum_2017[\"sekisan_ondo\"].tolist()\n",
    "        + df_accum_2018[\"sekisan_ondo\"].tolist()\n",
    "        + df_accum_2019[\"sekisan_ondo\"].tolist()\n",
    "    )\n",
    "    y = (\n",
    "        df_accum_2017[\"relative_sekisan_pollen\"].tolist()\n",
    "        + df_accum_2018[\"relative_sekisan_pollen\"].tolist()\n",
    "        + df_accum_2019[\"relative_sekisan_pollen\"].tolist()\n",
    "    )\n",
    "\n",
    "    x = np.array(x)\n",
    "    y = np.array(y)\n",
    "\n",
    "    result = leastsq(target_func, (0, 0), args=(x, y))\n",
    "    (a, b), _ = result\n",
    "\n",
    "    df_accum_2020[\"relative_sekisan_pollen_pred\"] = df_accum_2020[\"sekisan_ondo\"].apply(\n",
    "        lambda x: func((a, b), x)\n",
    "    )\n",
    "\n",
    "    total_pollen = df_accum_2020.iloc[-1].sekisan_pollen * (\n",
    "        100 / df_accum_2020.iloc[-1].relative_sekisan_pollen_pred\n",
    "    )\n",
    "\n",
    "    return total_pollen, a, b, df_accum_2020\n"
   ]
  },
  {
   "cell_type": "markdown",
   "metadata": {},
   "source": [
    "## utsunomiya"
   ]
  },
  {
   "cell_type": "code",
   "execution_count": 12,
   "metadata": {},
   "outputs": [],
   "source": [
    "df_accum_2017 = get_accum_pollen_temp(df_train_2017, \"utsunomiya\")\n",
    "df_accum_2018 = get_accum_pollen_temp(df_train_2018, \"utsunomiya\")\n",
    "df_accum_2019 = get_accum_pollen_temp(df_train_2019, \"utsunomiya\")\n",
    "df_accum_2020 = get_accum_pollen_temp(df_train_2020, \"utsunomiya\", only_temp=True)\n"
   ]
  },
  {
   "cell_type": "code",
   "execution_count": 13,
   "metadata": {},
   "outputs": [
    {
     "data": {
      "text/plain": [
       "<AxesSubplot:xlabel='sekisan_ondo', ylabel='relative_sekisan_pollen'>"
      ]
     },
     "execution_count": 13,
     "metadata": {},
     "output_type": "execute_result"
    },
    {
     "data": {
      "image/png": "[encoded data removed]",
      "text/plain": [
       "<Figure size 720x576 with 1 Axes>"
      ]
     },
     "metadata": {
      "needs_background": "light"
     },
     "output_type": "display_data"
    }
   ],
   "source": [
    "_, ax = plt.subplots(figsize=(10, 8))\n",
    "sns.lineplot(data=df_accum_2017, x=\"sekisan_ondo\", y=\"relative_sekisan_pollen\", label=\"2017\")\n",
    "sns.lineplot(data=df_accum_2018, x=\"sekisan_ondo\", y=\"relative_sekisan_pollen\", label=\"2018\")\n",
    "sns.lineplot(data=df_accum_2019, x=\"sekisan_ondo\", y=\"relative_sekisan_pollen\", label=\"2019\")"
   ]
  },
  {
   "cell_type": "code",
   "execution_count": 14,
   "metadata": {},
   "outputs": [
    {
     "data": {
      "text/html": [
       "<div>\n",
       "<style scoped>\n",
       "    .dataframe tbody tr th:only-of-type {\n",
       "        vertical-align: middle;\n",
       "    }\n",
       "\n",
       "    .dataframe tbody tr th {\n",
       "        vertical-align: top;\n",
       "    }\n",
       "\n",
       "    .dataframe thead th {\n",
       "        text-align: right;\n",
       "    }\n",
       "</style>\n",
       "<table border=\"1\" class=\"dataframe\">\n",
       "  <thead>\n",
       "    <tr style=\"text-align: right;\">\n",
       "      <th></th>\n",
       "      <th>datetime</th>\n",
       "      <th>temperature_utsunomiya</th>\n",
       "      <th>pollen_utsunomiya</th>\n",
       "      <th>sekisan_ondo</th>\n",
       "      <th>sekisan_pollen</th>\n",
       "    </tr>\n",
       "  </thead>\n",
       "  <tbody>\n",
       "    <tr>\n",
       "      <th>0</th>\n",
       "      <td>0201</td>\n",
       "      <td>4.437500</td>\n",
       "      <td>72.0</td>\n",
       "      <td>4.437500</td>\n",
       "      <td>72.0</td>\n",
       "    </tr>\n",
       "    <tr>\n",
       "      <th>1</th>\n",
       "      <td>0202</td>\n",
       "      <td>4.687500</td>\n",
       "      <td>76.0</td>\n",
       "      <td>9.125000</td>\n",
       "      <td>148.0</td>\n",
       "    </tr>\n",
       "    <tr>\n",
       "      <th>2</th>\n",
       "      <td>0203</td>\n",
       "      <td>6.879167</td>\n",
       "      <td>224.0</td>\n",
       "      <td>16.004167</td>\n",
       "      <td>372.0</td>\n",
       "    </tr>\n",
       "    <tr>\n",
       "      <th>3</th>\n",
       "      <td>0204</td>\n",
       "      <td>5.495833</td>\n",
       "      <td>124.0</td>\n",
       "      <td>21.500000</td>\n",
       "      <td>496.0</td>\n",
       "    </tr>\n",
       "    <tr>\n",
       "      <th>4</th>\n",
       "      <td>0205</td>\n",
       "      <td>4.887500</td>\n",
       "      <td>161.0</td>\n",
       "      <td>26.387500</td>\n",
       "      <td>657.0</td>\n",
       "    </tr>\n",
       "  </tbody>\n",
       "</table>\n",
       "</div>"
      ],
      "text/plain": [
       "  datetime  temperature_utsunomiya  pollen_utsunomiya  sekisan_ondo  \\\n",
       "0     0201                4.437500               72.0      4.437500   \n",
       "1     0202                4.687500               76.0      9.125000   \n",
       "2     0203                6.879167              224.0     16.004167   \n",
       "3     0204                5.495833              124.0     21.500000   \n",
       "4     0205                4.887500              161.0     26.387500   \n",
       "\n",
       "   sekisan_pollen  \n",
       "0            72.0  \n",
       "1           148.0  \n",
       "2           372.0  \n",
       "3           496.0  \n",
       "4           657.0  "
      ]
     },
     "execution_count": 14,
     "metadata": {},
     "output_type": "execute_result"
    }
   ],
   "source": [
    "df_accum_2020.head()"
   ]
  },
  {
   "cell_type": "code",
   "execution_count": 15,
   "metadata": {},
   "outputs": [],
   "source": [
    "(total_pollen_ut, a_ut, b_ut, df_accum_2020_ut) = get_total_pollen_2020(\n",
    "    [df_accum_2017, df_accum_2018, df_accum_2019], df_accum_2020\n",
    ")\n"
   ]
  },
  {
   "cell_type": "code",
   "execution_count": 16,
   "metadata": {},
   "outputs": [
    {
     "name": "stdout",
     "output_type": "stream",
     "text": [
      "2020総花粉飛散量 47848.946232729206\n"
     ]
    }
   ],
   "source": [
    "print(\"2020総花粉飛散量\", total_pollen_ut)"
   ]
  },
  {
   "cell_type": "code",
   "execution_count": 17,
   "metadata": {},
   "outputs": [
    {
     "data": {
      "text/plain": [
       "(-4.33669043672912, -0.006111092345342258)"
      ]
     },
     "execution_count": 17,
     "metadata": {},
     "output_type": "execute_result"
    }
   ],
   "source": [
    "a_ut, b_ut"
   ]
  },
  {
   "cell_type": "code",
   "execution_count": 18,
   "metadata": {},
   "outputs": [
    {
     "data": {
      "text/html": [
       "<div>\n",
       "<style scoped>\n",
       "    .dataframe tbody tr th:only-of-type {\n",
       "        vertical-align: middle;\n",
       "    }\n",
       "\n",
       "    .dataframe tbody tr th {\n",
       "        vertical-align: top;\n",
       "    }\n",
       "\n",
       "    .dataframe thead th {\n",
       "        text-align: right;\n",
       "    }\n",
       "</style>\n",
       "<table border=\"1\" class=\"dataframe\">\n",
       "  <thead>\n",
       "    <tr style=\"text-align: right;\">\n",
       "      <th></th>\n",
       "      <th>datetime</th>\n",
       "      <th>temperature_utsunomiya</th>\n",
       "      <th>pollen_utsunomiya</th>\n",
       "      <th>sekisan_ondo</th>\n",
       "      <th>sekisan_pollen</th>\n",
       "      <th>relative_sekisan_pollen_pred</th>\n",
       "    </tr>\n",
       "  </thead>\n",
       "  <tbody>\n",
       "    <tr>\n",
       "      <th>55</th>\n",
       "      <td>0327</td>\n",
       "      <td>13.891667</td>\n",
       "      <td>2091.0</td>\n",
       "      <td>420.625000</td>\n",
       "      <td>34538.0</td>\n",
       "      <td>71.766508</td>\n",
       "    </tr>\n",
       "    <tr>\n",
       "      <th>56</th>\n",
       "      <td>0328</td>\n",
       "      <td>13.787500</td>\n",
       "      <td>708.0</td>\n",
       "      <td>434.412500</td>\n",
       "      <td>35246.0</td>\n",
       "      <td>73.716382</td>\n",
       "    </tr>\n",
       "    <tr>\n",
       "      <th>57</th>\n",
       "      <td>0329</td>\n",
       "      <td>2.183333</td>\n",
       "      <td>0.0</td>\n",
       "      <td>436.595833</td>\n",
       "      <td>35246.0</td>\n",
       "      <td>74.014926</td>\n",
       "    </tr>\n",
       "    <tr>\n",
       "      <th>58</th>\n",
       "      <td>0330</td>\n",
       "      <td>6.441667</td>\n",
       "      <td>988.0</td>\n",
       "      <td>443.037500</td>\n",
       "      <td>36234.0</td>\n",
       "      <td>74.879631</td>\n",
       "    </tr>\n",
       "    <tr>\n",
       "      <th>59</th>\n",
       "      <td>0331</td>\n",
       "      <td>8.375000</td>\n",
       "      <td>116.0</td>\n",
       "      <td>451.412500</td>\n",
       "      <td>36350.0</td>\n",
       "      <td>75.968235</td>\n",
       "    </tr>\n",
       "  </tbody>\n",
       "</table>\n",
       "</div>"
      ],
      "text/plain": [
       "   datetime  temperature_utsunomiya  pollen_utsunomiya  sekisan_ondo  \\\n",
       "55     0327               13.891667             2091.0    420.625000   \n",
       "56     0328               13.787500              708.0    434.412500   \n",
       "57     0329                2.183333                0.0    436.595833   \n",
       "58     0330                6.441667              988.0    443.037500   \n",
       "59     0331                8.375000              116.0    451.412500   \n",
       "\n",
       "    sekisan_pollen  relative_sekisan_pollen_pred  \n",
       "55         34538.0                     71.766508  \n",
       "56         35246.0                     73.716382  \n",
       "57         35246.0                     74.014926  \n",
       "58         36234.0                     74.879631  \n",
       "59         36350.0                     75.968235  "
      ]
     },
     "execution_count": 18,
     "metadata": {},
     "output_type": "execute_result"
    }
   ],
   "source": [
    "df_accum_2020_ut.tail()"
   ]
  },
  {
   "cell_type": "code",
   "execution_count": 19,
   "metadata": {},
   "outputs": [
    {
     "name": "stdout",
     "output_type": "stream",
     "text": [
      "評価期間の花粉の割合 13.401466765933876\n"
     ]
    }
   ],
   "source": [
    "df_accum_2020_test = get_accum_pollen_temp(pd.concat([df_train_2020, df_test]).reset_index(drop=True), \"utsunomiya\", only_temp=True)\n",
    "df_accum_2020_test[\"relative_sekisan_pollen_pred\"] = df_accum_2020_test[\"sekisan_ondo\"].apply(lambda x: func((a_ut, b_ut), x))\n",
    "target_term_percent = df_accum_2020_test[df_accum_2020_test.datetime == \"0414\"].relative_sekisan_pollen_pred.values - df_accum_2020_test[df_accum_2020_test.datetime == \"0331\"].relative_sekisan_pollen_pred.values\n",
    "print(\"評価期間の花粉の割合\", target_term_percent[0])"
   ]
  },
  {
   "cell_type": "code",
   "execution_count": 20,
   "metadata": {},
   "outputs": [
    {
     "data": {
      "text/html": [
       "<div>\n",
       "<style scoped>\n",
       "    .dataframe tbody tr th:only-of-type {\n",
       "        vertical-align: middle;\n",
       "    }\n",
       "\n",
       "    .dataframe tbody tr th {\n",
       "        vertical-align: top;\n",
       "    }\n",
       "\n",
       "    .dataframe thead th {\n",
       "        text-align: right;\n",
       "    }\n",
       "</style>\n",
       "<table border=\"1\" class=\"dataframe\">\n",
       "  <thead>\n",
       "    <tr style=\"text-align: right;\">\n",
       "      <th></th>\n",
       "      <th>datetime</th>\n",
       "      <th>temperature_utsunomiya</th>\n",
       "      <th>pollen_utsunomiya</th>\n",
       "      <th>sekisan_ondo</th>\n",
       "      <th>sekisan_pollen</th>\n",
       "      <th>relative_sekisan_pollen_pred</th>\n",
       "    </tr>\n",
       "  </thead>\n",
       "  <tbody>\n",
       "    <tr>\n",
       "      <th>69</th>\n",
       "      <td>0410</td>\n",
       "      <td>8.845833</td>\n",
       "      <td>0.0</td>\n",
       "      <td>561.112500</td>\n",
       "      <td>36350.0</td>\n",
       "      <td>86.884441</td>\n",
       "    </tr>\n",
       "    <tr>\n",
       "      <th>70</th>\n",
       "      <td>0411</td>\n",
       "      <td>8.841667</td>\n",
       "      <td>0.0</td>\n",
       "      <td>569.954167</td>\n",
       "      <td>36350.0</td>\n",
       "      <td>87.529323</td>\n",
       "    </tr>\n",
       "    <tr>\n",
       "      <th>71</th>\n",
       "      <td>0412</td>\n",
       "      <td>9.429167</td>\n",
       "      <td>0.0</td>\n",
       "      <td>579.383333</td>\n",
       "      <td>36350.0</td>\n",
       "      <td>88.184571</td>\n",
       "    </tr>\n",
       "    <tr>\n",
       "      <th>72</th>\n",
       "      <td>0413</td>\n",
       "      <td>7.870833</td>\n",
       "      <td>0.0</td>\n",
       "      <td>587.254167</td>\n",
       "      <td>36350.0</td>\n",
       "      <td>88.706822</td>\n",
       "    </tr>\n",
       "    <tr>\n",
       "      <th>73</th>\n",
       "      <td>0414</td>\n",
       "      <td>10.495833</td>\n",
       "      <td>0.0</td>\n",
       "      <td>597.750000</td>\n",
       "      <td>36350.0</td>\n",
       "      <td>89.369702</td>\n",
       "    </tr>\n",
       "  </tbody>\n",
       "</table>\n",
       "</div>"
      ],
      "text/plain": [
       "   datetime  temperature_utsunomiya  pollen_utsunomiya  sekisan_ondo  \\\n",
       "69     0410                8.845833                0.0    561.112500   \n",
       "70     0411                8.841667                0.0    569.954167   \n",
       "71     0412                9.429167                0.0    579.383333   \n",
       "72     0413                7.870833                0.0    587.254167   \n",
       "73     0414               10.495833                0.0    597.750000   \n",
       "\n",
       "    sekisan_pollen  relative_sekisan_pollen_pred  \n",
       "69         36350.0                     86.884441  \n",
       "70         36350.0                     87.529323  \n",
       "71         36350.0                     88.184571  \n",
       "72         36350.0                     88.706822  \n",
       "73         36350.0                     89.369702  "
      ]
     },
     "execution_count": 20,
     "metadata": {},
     "output_type": "execute_result"
    }
   ],
   "source": [
    "df_accum_2020_test.tail()"
   ]
  },
  {
   "cell_type": "markdown",
   "metadata": {},
   "source": [
    "## tokyo\n"
   ]
  },
  {
   "cell_type": "code",
   "execution_count": 21,
   "metadata": {},
   "outputs": [],
   "source": [
    "df_accum_2017 = get_accum_pollen_temp(df_train_2017, \"tokyo\")\n",
    "df_accum_2018 = get_accum_pollen_temp(df_train_2018, \"tokyo\")\n",
    "df_accum_2019 = get_accum_pollen_temp(df_train_2019, \"tokyo\")\n",
    "df_accum_2020 = get_accum_pollen_temp(df_train_2020, \"tokyo\", only_temp=True)"
   ]
  },
  {
   "cell_type": "code",
   "execution_count": 22,
   "metadata": {},
   "outputs": [
    {
     "data": {
      "text/plain": [
       "<AxesSubplot:xlabel='sekisan_ondo', ylabel='relative_sekisan_pollen'>"
      ]
     },
     "execution_count": 22,
     "metadata": {},
     "output_type": "execute_result"
    },
    {
     "data": {
      "image/png": "[encoded data removed]",
      "text/plain": [
       "<Figure size 720x576 with 1 Axes>"
      ]
     },
     "metadata": {
      "needs_background": "light"
     },
     "output_type": "display_data"
    }
   ],
   "source": [
    "_, ax = plt.subplots(figsize=(10, 8))\n",
    "sns.lineplot(data=df_accum_2017, x=\"sekisan_ondo\", y=\"relative_sekisan_pollen\", label=\"2017\")\n",
    "sns.lineplot(data=df_accum_2018, x=\"sekisan_ondo\", y=\"relative_sekisan_pollen\", label=\"2018\")\n",
    "sns.lineplot(data=df_accum_2019, x=\"sekisan_ondo\", y=\"relative_sekisan_pollen\", label=\"2019\")"
   ]
  },
  {
   "cell_type": "code",
   "execution_count": 23,
   "metadata": {},
   "outputs": [],
   "source": [
    "(total_pollen_tk, a_tk, b_tk, df_accum_2020_tk) = get_total_pollen_2020(\n",
    "    [df_accum_2017, df_accum_2018, df_accum_2019], df_accum_2020\n",
    ")"
   ]
  },
  {
   "cell_type": "code",
   "execution_count": 24,
   "metadata": {},
   "outputs": [
    {
     "name": "stdout",
     "output_type": "stream",
     "text": [
      "2020総花粉飛散量 28232.168622513003\n"
     ]
    }
   ],
   "source": [
    "print(\"2020総花粉飛散量\", total_pollen_tk)"
   ]
  },
  {
   "cell_type": "code",
   "execution_count": 25,
   "metadata": {},
   "outputs": [
    {
     "data": {
      "text/plain": [
       "(-3.8901679770788196, -0.004241544513363027)"
      ]
     },
     "execution_count": 25,
     "metadata": {},
     "output_type": "execute_result"
    }
   ],
   "source": [
    "a_tk, b_tk"
   ]
  },
  {
   "cell_type": "code",
   "execution_count": 26,
   "metadata": {},
   "outputs": [
    {
     "data": {
      "text/html": [
       "<div>\n",
       "<style scoped>\n",
       "    .dataframe tbody tr th:only-of-type {\n",
       "        vertical-align: middle;\n",
       "    }\n",
       "\n",
       "    .dataframe tbody tr th {\n",
       "        vertical-align: top;\n",
       "    }\n",
       "\n",
       "    .dataframe thead th {\n",
       "        text-align: right;\n",
       "    }\n",
       "</style>\n",
       "<table border=\"1\" class=\"dataframe\">\n",
       "  <thead>\n",
       "    <tr style=\"text-align: right;\">\n",
       "      <th></th>\n",
       "      <th>datetime</th>\n",
       "      <th>temperature_tokyo</th>\n",
       "      <th>pollen_tokyo</th>\n",
       "      <th>sekisan_ondo</th>\n",
       "      <th>sekisan_pollen</th>\n",
       "      <th>relative_sekisan_pollen_pred</th>\n",
       "    </tr>\n",
       "  </thead>\n",
       "  <tbody>\n",
       "    <tr>\n",
       "      <th>55</th>\n",
       "      <td>0327</td>\n",
       "      <td>15.466667</td>\n",
       "      <td>342.0</td>\n",
       "      <td>485.695833</td>\n",
       "      <td>17910.0</td>\n",
       "      <td>60.910322</td>\n",
       "    </tr>\n",
       "    <tr>\n",
       "      <th>56</th>\n",
       "      <td>0328</td>\n",
       "      <td>15.591667</td>\n",
       "      <td>219.0</td>\n",
       "      <td>501.287500</td>\n",
       "      <td>18129.0</td>\n",
       "      <td>62.873735</td>\n",
       "    </tr>\n",
       "    <tr>\n",
       "      <th>57</th>\n",
       "      <td>0329</td>\n",
       "      <td>2.895833</td>\n",
       "      <td>0.0</td>\n",
       "      <td>504.183333</td>\n",
       "      <td>18129.0</td>\n",
       "      <td>63.230917</td>\n",
       "    </tr>\n",
       "    <tr>\n",
       "      <th>58</th>\n",
       "      <td>0330</td>\n",
       "      <td>6.291667</td>\n",
       "      <td>112.0</td>\n",
       "      <td>510.475000</td>\n",
       "      <td>18241.0</td>\n",
       "      <td>63.998780</td>\n",
       "    </tr>\n",
       "    <tr>\n",
       "      <th>59</th>\n",
       "      <td>0331</td>\n",
       "      <td>8.766667</td>\n",
       "      <td>124.0</td>\n",
       "      <td>519.241667</td>\n",
       "      <td>18365.0</td>\n",
       "      <td>65.049909</td>\n",
       "    </tr>\n",
       "  </tbody>\n",
       "</table>\n",
       "</div>"
      ],
      "text/plain": [
       "   datetime  temperature_tokyo  pollen_tokyo  sekisan_ondo  sekisan_pollen  \\\n",
       "55     0327          15.466667         342.0    485.695833         17910.0   \n",
       "56     0328          15.591667         219.0    501.287500         18129.0   \n",
       "57     0329           2.895833           0.0    504.183333         18129.0   \n",
       "58     0330           6.291667         112.0    510.475000         18241.0   \n",
       "59     0331           8.766667         124.0    519.241667         18365.0   \n",
       "\n",
       "    relative_sekisan_pollen_pred  \n",
       "55                     60.910322  \n",
       "56                     62.873735  \n",
       "57                     63.230917  \n",
       "58                     63.998780  \n",
       "59                     65.049909  "
      ]
     },
     "execution_count": 26,
     "metadata": {},
     "output_type": "execute_result"
    }
   ],
   "source": [
    "df_accum_2020_tk.tail()"
   ]
  },
  {
   "cell_type": "code",
   "execution_count": 27,
   "metadata": {},
   "outputs": [
    {
     "name": "stdout",
     "output_type": "stream",
     "text": [
      "評価期間の花粉の割合 15.31909333922222\n"
     ]
    }
   ],
   "source": [
    "df_accum_2020_test = get_accum_pollen_temp(pd.concat([df_train_2020, df_test]).reset_index(drop=True), \"tokyo\", only_temp=True)\n",
    "df_accum_2020_test[\"relative_sekisan_pollen_pred\"] = df_accum_2020_test[\"sekisan_ondo\"].apply(lambda x: func((a_tk, b_tk), x))\n",
    "target_term_percent = df_accum_2020_test[df_accum_2020_test.datetime == \"0414\"].relative_sekisan_pollen_pred.values - df_accum_2020_test[df_accum_2020_test.datetime == \"0331\"].relative_sekisan_pollen_pred.values\n",
    "print(\"評価期間の花粉の割合\", target_term_percent[0])"
   ]
  },
  {
   "cell_type": "markdown",
   "metadata": {},
   "source": [
    "## chiba"
   ]
  },
  {
   "cell_type": "code",
   "execution_count": 28,
   "metadata": {},
   "outputs": [],
   "source": [
    "df_accum_2017 = get_accum_pollen_temp(df_train_2017, \"chiba\")\n",
    "df_accum_2018 = get_accum_pollen_temp(df_train_2018, \"chiba\")\n",
    "df_accum_2019 = get_accum_pollen_temp(df_train_2019, \"chiba\")\n",
    "df_accum_2020 = get_accum_pollen_temp(df_train_2020, \"chiba\", only_temp=True)\n"
   ]
  },
  {
   "cell_type": "code",
   "execution_count": 29,
   "metadata": {},
   "outputs": [
    {
     "data": {
      "text/plain": [
       "<AxesSubplot:xlabel='sekisan_ondo', ylabel='relative_sekisan_pollen'>"
      ]
     },
     "execution_count": 29,
     "metadata": {},
     "output_type": "execute_result"
    },
    {
     "data": {
      "image/png": "[encoded data removed]",
      "text/plain": [
       "<Figure size 720x576 with 1 Axes>"
      ]
     },
     "metadata": {
      "needs_background": "light"
     },
     "output_type": "display_data"
    }
   ],
   "source": [
    "_, ax = plt.subplots(figsize=(10, 8))\n",
    "sns.lineplot(data=df_accum_2017, x=\"sekisan_ondo\", y=\"relative_sekisan_pollen\", label=\"2017\")\n",
    "sns.lineplot(data=df_accum_2018, x=\"sekisan_ondo\", y=\"relative_sekisan_pollen\", label=\"2018\")\n",
    "sns.lineplot(data=df_accum_2019, x=\"sekisan_ondo\", y=\"relative_sekisan_pollen\", label=\"2019\")"
   ]
  },
  {
   "cell_type": "code",
   "execution_count": 30,
   "metadata": {},
   "outputs": [],
   "source": [
    "(total_pollen_cb, a_cb, b_cb, df_accum_2020_cb) = get_total_pollen_2020(\n",
    "    [df_accum_2017, df_accum_2018, df_accum_2019], df_accum_2020\n",
    ")"
   ]
  },
  {
   "cell_type": "code",
   "execution_count": 31,
   "metadata": {},
   "outputs": [
    {
     "name": "stdout",
     "output_type": "stream",
     "text": [
      "2020総花粉飛散量 32978.780406463025\n"
     ]
    }
   ],
   "source": [
    "print(\"2020総花粉飛散量\", total_pollen_cb)"
   ]
  },
  {
   "cell_type": "code",
   "execution_count": 32,
   "metadata": {},
   "outputs": [
    {
     "data": {
      "text/plain": [
       "(-3.797493753848663, -0.004131774130024546)"
      ]
     },
     "execution_count": 32,
     "metadata": {},
     "output_type": "execute_result"
    }
   ],
   "source": [
    "a_cb, b_cb"
   ]
  },
  {
   "cell_type": "code",
   "execution_count": 33,
   "metadata": {},
   "outputs": [
    {
     "data": {
      "text/html": [
       "<div>\n",
       "<style scoped>\n",
       "    .dataframe tbody tr th:only-of-type {\n",
       "        vertical-align: middle;\n",
       "    }\n",
       "\n",
       "    .dataframe tbody tr th {\n",
       "        vertical-align: top;\n",
       "    }\n",
       "\n",
       "    .dataframe thead th {\n",
       "        text-align: right;\n",
       "    }\n",
       "</style>\n",
       "<table border=\"1\" class=\"dataframe\">\n",
       "  <thead>\n",
       "    <tr style=\"text-align: right;\">\n",
       "      <th></th>\n",
       "      <th>datetime</th>\n",
       "      <th>temperature_chiba</th>\n",
       "      <th>pollen_chiba</th>\n",
       "      <th>sekisan_ondo</th>\n",
       "      <th>sekisan_pollen</th>\n",
       "      <th>relative_sekisan_pollen_pred</th>\n",
       "    </tr>\n",
       "  </thead>\n",
       "  <tbody>\n",
       "    <tr>\n",
       "      <th>55</th>\n",
       "      <td>0327</td>\n",
       "      <td>16.354167</td>\n",
       "      <td>396.0</td>\n",
       "      <td>564.737500</td>\n",
       "      <td>23367.0</td>\n",
       "      <td>69.195265</td>\n",
       "    </tr>\n",
       "    <tr>\n",
       "      <th>56</th>\n",
       "      <td>0328</td>\n",
       "      <td>15.720833</td>\n",
       "      <td>156.0</td>\n",
       "      <td>580.458333</td>\n",
       "      <td>23523.0</td>\n",
       "      <td>70.816429</td>\n",
       "    </tr>\n",
       "    <tr>\n",
       "      <th>57</th>\n",
       "      <td>0329</td>\n",
       "      <td>4.725000</td>\n",
       "      <td>0.0</td>\n",
       "      <td>585.183333</td>\n",
       "      <td>23523.0</td>\n",
       "      <td>71.290461</td>\n",
       "    </tr>\n",
       "    <tr>\n",
       "      <th>58</th>\n",
       "      <td>0330</td>\n",
       "      <td>8.175000</td>\n",
       "      <td>301.0</td>\n",
       "      <td>593.358333</td>\n",
       "      <td>23824.0</td>\n",
       "      <td>72.096257</td>\n",
       "    </tr>\n",
       "    <tr>\n",
       "      <th>59</th>\n",
       "      <td>0331</td>\n",
       "      <td>10.787500</td>\n",
       "      <td>294.0</td>\n",
       "      <td>604.145833</td>\n",
       "      <td>24118.0</td>\n",
       "      <td>73.131874</td>\n",
       "    </tr>\n",
       "  </tbody>\n",
       "</table>\n",
       "</div>"
      ],
      "text/plain": [
       "   datetime  temperature_chiba  pollen_chiba  sekisan_ondo  sekisan_pollen  \\\n",
       "55     0327          16.354167         396.0    564.737500         23367.0   \n",
       "56     0328          15.720833         156.0    580.458333         23523.0   \n",
       "57     0329           4.725000           0.0    585.183333         23523.0   \n",
       "58     0330           8.175000         301.0    593.358333         23824.0   \n",
       "59     0331          10.787500         294.0    604.145833         24118.0   \n",
       "\n",
       "    relative_sekisan_pollen_pred  \n",
       "55                     69.195265  \n",
       "56                     70.816429  \n",
       "57                     71.290461  \n",
       "58                     72.096257  \n",
       "59                     73.131874  "
      ]
     },
     "execution_count": 33,
     "metadata": {},
     "output_type": "execute_result"
    }
   ],
   "source": [
    "df_accum_2020_cb.tail()"
   ]
  },
  {
   "cell_type": "code",
   "execution_count": 34,
   "metadata": {},
   "outputs": [
    {
     "name": "stdout",
     "output_type": "stream",
     "text": [
      "評価期間の花粉の割合 12.843262552256846\n"
     ]
    }
   ],
   "source": [
    "df_accum_2020_test = get_accum_pollen_temp(pd.concat([df_train_2020, df_test]).reset_index(drop=True), \"chiba\", only_temp=True)\n",
    "df_accum_2020_test[\"relative_sekisan_pollen_pred\"] = df_accum_2020_test[\"sekisan_ondo\"].apply(lambda x: func((a_cb, b_cb), x))\n",
    "target_term_percent = df_accum_2020_test[df_accum_2020_test.datetime == \"0414\"].relative_sekisan_pollen_pred.values - df_accum_2020_test[df_accum_2020_test.datetime == \"0331\"].relative_sekisan_pollen_pred.values\n",
    "print(\"評価期間の花粉の割合\", target_term_percent[0])"
   ]
  },
  {
   "cell_type": "code",
   "execution_count": 35,
   "metadata": {},
   "outputs": [
    {
     "data": {
      "text/html": [
       "<div>\n",
       "<style scoped>\n",
       "    .dataframe tbody tr th:only-of-type {\n",
       "        vertical-align: middle;\n",
       "    }\n",
       "\n",
       "    .dataframe tbody tr th {\n",
       "        vertical-align: top;\n",
       "    }\n",
       "\n",
       "    .dataframe thead th {\n",
       "        text-align: right;\n",
       "    }\n",
       "</style>\n",
       "<table border=\"1\" class=\"dataframe\">\n",
       "  <thead>\n",
       "    <tr style=\"text-align: right;\">\n",
       "      <th></th>\n",
       "      <th>datetime</th>\n",
       "      <th>temperature_chiba</th>\n",
       "      <th>pollen_chiba</th>\n",
       "      <th>sekisan_ondo</th>\n",
       "      <th>sekisan_pollen</th>\n",
       "      <th>relative_sekisan_pollen_pred</th>\n",
       "    </tr>\n",
       "  </thead>\n",
       "  <tbody>\n",
       "    <tr>\n",
       "      <th>59</th>\n",
       "      <td>0331</td>\n",
       "      <td>10.7875</td>\n",
       "      <td>294.0</td>\n",
       "      <td>604.145833</td>\n",
       "      <td>24118.0</td>\n",
       "      <td>73.131874</td>\n",
       "    </tr>\n",
       "    <tr>\n",
       "      <th>73</th>\n",
       "      <td>0414</td>\n",
       "      <td>11.8125</td>\n",
       "      <td>0.0</td>\n",
       "      <td>780.312500</td>\n",
       "      <td>24118.0</td>\n",
       "      <td>85.975136</td>\n",
       "    </tr>\n",
       "  </tbody>\n",
       "</table>\n",
       "</div>"
      ],
      "text/plain": [
       "   datetime  temperature_chiba  pollen_chiba  sekisan_ondo  sekisan_pollen  \\\n",
       "59     0331            10.7875         294.0    604.145833         24118.0   \n",
       "73     0414            11.8125           0.0    780.312500         24118.0   \n",
       "\n",
       "    relative_sekisan_pollen_pred  \n",
       "59                     73.131874  \n",
       "73                     85.975136  "
      ]
     },
     "execution_count": 35,
     "metadata": {},
     "output_type": "execute_result"
    }
   ],
   "source": [
    "df_accum_2020_test[(df_accum_2020_test.datetime == \"0331\") | (df_accum_2020_test.datetime == \"0414\") ]"
   ]
  },
  {
   "cell_type": "code",
   "execution_count": 36,
   "metadata": {},
   "outputs": [
    {
     "data": {
      "text/html": [
       "<div>\n",
       "<style scoped>\n",
       "    .dataframe tbody tr th:only-of-type {\n",
       "        vertical-align: middle;\n",
       "    }\n",
       "\n",
       "    .dataframe tbody tr th {\n",
       "        vertical-align: top;\n",
       "    }\n",
       "\n",
       "    .dataframe thead th {\n",
       "        text-align: right;\n",
       "    }\n",
       "</style>\n",
       "<table border=\"1\" class=\"dataframe\">\n",
       "  <thead>\n",
       "    <tr style=\"text-align: right;\">\n",
       "      <th></th>\n",
       "      <th>datetime</th>\n",
       "      <th>temperature_chiba</th>\n",
       "      <th>pollen_chiba</th>\n",
       "      <th>sekisan_ondo</th>\n",
       "      <th>sekisan_pollen</th>\n",
       "      <th>relative_sekisan_pollen_pred</th>\n",
       "    </tr>\n",
       "  </thead>\n",
       "  <tbody>\n",
       "    <tr>\n",
       "      <th>69</th>\n",
       "      <td>0410</td>\n",
       "      <td>11.454167</td>\n",
       "      <td>0.0</td>\n",
       "      <td>736.687500</td>\n",
       "      <td>24118.0</td>\n",
       "      <td>83.446961</td>\n",
       "    </tr>\n",
       "    <tr>\n",
       "      <th>70</th>\n",
       "      <td>0411</td>\n",
       "      <td>11.370833</td>\n",
       "      <td>0.0</td>\n",
       "      <td>748.058333</td>\n",
       "      <td>24118.0</td>\n",
       "      <td>84.142885</td>\n",
       "    </tr>\n",
       "    <tr>\n",
       "      <th>71</th>\n",
       "      <td>0412</td>\n",
       "      <td>11.129167</td>\n",
       "      <td>0.0</td>\n",
       "      <td>759.187500</td>\n",
       "      <td>24118.0</td>\n",
       "      <td>84.798324</td>\n",
       "    </tr>\n",
       "    <tr>\n",
       "      <th>72</th>\n",
       "      <td>0413</td>\n",
       "      <td>9.312500</td>\n",
       "      <td>0.0</td>\n",
       "      <td>768.500000</td>\n",
       "      <td>24118.0</td>\n",
       "      <td>85.327768</td>\n",
       "    </tr>\n",
       "    <tr>\n",
       "      <th>73</th>\n",
       "      <td>0414</td>\n",
       "      <td>11.812500</td>\n",
       "      <td>0.0</td>\n",
       "      <td>780.312500</td>\n",
       "      <td>24118.0</td>\n",
       "      <td>85.975136</td>\n",
       "    </tr>\n",
       "  </tbody>\n",
       "</table>\n",
       "</div>"
      ],
      "text/plain": [
       "   datetime  temperature_chiba  pollen_chiba  sekisan_ondo  sekisan_pollen  \\\n",
       "69     0410          11.454167           0.0    736.687500         24118.0   \n",
       "70     0411          11.370833           0.0    748.058333         24118.0   \n",
       "71     0412          11.129167           0.0    759.187500         24118.0   \n",
       "72     0413           9.312500           0.0    768.500000         24118.0   \n",
       "73     0414          11.812500           0.0    780.312500         24118.0   \n",
       "\n",
       "    relative_sekisan_pollen_pred  \n",
       "69                     83.446961  \n",
       "70                     84.142885  \n",
       "71                     84.798324  \n",
       "72                     85.327768  \n",
       "73                     85.975136  "
      ]
     },
     "execution_count": 36,
     "metadata": {},
     "output_type": "execute_result"
    }
   ],
   "source": [
    "df_accum_2020_test.tail()"
   ]
  },
  {
   "cell_type": "markdown",
   "metadata": {},
   "source": [
    "## tryal"
   ]
  },
  {
   "cell_type": "code",
   "execution_count": 37,
   "metadata": {},
   "outputs": [],
   "source": [
    "x = (\n",
    "    df_accum_2017[\"sekisan_ondo\"].tolist()\n",
    "    + df_accum_2018[\"sekisan_ondo\"].tolist()\n",
    "    + df_accum_2019[\"sekisan_ondo\"].tolist()\n",
    ")\n",
    "y = (\n",
    "    df_accum_2017[\"relative_sekisan_pollen\"].tolist()\n",
    "    + df_accum_2018[\"relative_sekisan_pollen\"].tolist()\n",
    "    + df_accum_2019[\"relative_sekisan_pollen\"].tolist()\n",
    ")\n",
    "\n",
    "x = np.array(x)\n",
    "y = np.array(y)"
   ]
  },
  {
   "cell_type": "code",
   "execution_count": 38,
   "metadata": {},
   "outputs": [],
   "source": [
    "result = leastsq(target_func, (0, 0), args=(x, y))\n",
    "(a, b), _ = result\n"
   ]
  },
  {
   "cell_type": "code",
   "execution_count": 39,
   "metadata": {},
   "outputs": [
    {
     "data": {
      "text/plain": [
       "2.242690883419083"
      ]
     },
     "execution_count": 39,
     "metadata": {},
     "output_type": "execute_result"
    }
   ],
   "source": [
    "func((a, b), 0)\n"
   ]
  },
  {
   "cell_type": "code",
   "execution_count": 40,
   "metadata": {},
   "outputs": [],
   "source": [
    "df_accum_2017[\"relative_sekisan_pollen_pred\"] = df_accum_2017[\"sekisan_ondo\"].apply(lambda x: func((a, b), x))"
   ]
  },
  {
   "cell_type": "code",
   "execution_count": 41,
   "metadata": {},
   "outputs": [
    {
     "data": {
      "text/plain": [
       "<AxesSubplot:xlabel='sekisan_ondo', ylabel='relative_sekisan_pollen'>"
      ]
     },
     "execution_count": 41,
     "metadata": {},
     "output_type": "execute_result"
    },
    {
     "data": {
      "image/png": "[encoded data removed]",
      "text/plain": [
       "<Figure size 720x576 with 1 Axes>"
      ]
     },
     "metadata": {
      "needs_background": "light"
     },
     "output_type": "display_data"
    }
   ],
   "source": [
    "_, ax = plt.subplots(figsize=(10, 8))\n",
    "sns.lineplot(data=df_accum_2017, x=\"sekisan_ondo\", y=\"relative_sekisan_pollen\", label=\"2017\")\n",
    "#sns.lineplot(data=df_accum_2018, x=\"sekisan_ondo\", y=\"relative_sekisan_pollen\", label=\"2018\")\n",
    "#sns.lineplot(data=df_accum_2019, x=\"sekisan_ondo\", y=\"relative_sekisan_pollen\", label=\"2019\")\n",
    "sns.lineplot(data=df_accum_2017, x=\"sekisan_ondo\", y=\"relative_sekisan_pollen_pred\", label=\"2017 pred\")"
   ]
  },
  {
   "cell_type": "code",
   "execution_count": 42,
   "metadata": {},
   "outputs": [],
   "source": [
    "df_accum_2020[\"relative_sekisan_pollen_pred\"] = df_accum_2020[\"sekisan_ondo\"].apply(lambda x: func((a, b), x))\n",
    "df_accum_2018[\"relative_sekisan_pollen_pred\"] = df_accum_2018[\"sekisan_ondo\"].apply(lambda x: func((a, b), x))"
   ]
  },
  {
   "cell_type": "code",
   "execution_count": 43,
   "metadata": {},
   "outputs": [
    {
     "data": {
      "text/html": [
       "<div>\n",
       "<style scoped>\n",
       "    .dataframe tbody tr th:only-of-type {\n",
       "        vertical-align: middle;\n",
       "    }\n",
       "\n",
       "    .dataframe tbody tr th {\n",
       "        vertical-align: top;\n",
       "    }\n",
       "\n",
       "    .dataframe thead th {\n",
       "        text-align: right;\n",
       "    }\n",
       "</style>\n",
       "<table border=\"1\" class=\"dataframe\">\n",
       "  <thead>\n",
       "    <tr style=\"text-align: right;\">\n",
       "      <th></th>\n",
       "      <th>datetime</th>\n",
       "      <th>temperature_chiba</th>\n",
       "      <th>pollen_chiba</th>\n",
       "      <th>sekisan_ondo</th>\n",
       "      <th>sekisan_pollen</th>\n",
       "      <th>relative_sekisan_pollen_pred</th>\n",
       "    </tr>\n",
       "  </thead>\n",
       "  <tbody>\n",
       "    <tr>\n",
       "      <th>55</th>\n",
       "      <td>0327</td>\n",
       "      <td>16.354167</td>\n",
       "      <td>396.0</td>\n",
       "      <td>564.737500</td>\n",
       "      <td>23367.0</td>\n",
       "      <td>69.195265</td>\n",
       "    </tr>\n",
       "    <tr>\n",
       "      <th>56</th>\n",
       "      <td>0328</td>\n",
       "      <td>15.720833</td>\n",
       "      <td>156.0</td>\n",
       "      <td>580.458333</td>\n",
       "      <td>23523.0</td>\n",
       "      <td>70.816429</td>\n",
       "    </tr>\n",
       "    <tr>\n",
       "      <th>57</th>\n",
       "      <td>0329</td>\n",
       "      <td>4.725000</td>\n",
       "      <td>0.0</td>\n",
       "      <td>585.183333</td>\n",
       "      <td>23523.0</td>\n",
       "      <td>71.290461</td>\n",
       "    </tr>\n",
       "    <tr>\n",
       "      <th>58</th>\n",
       "      <td>0330</td>\n",
       "      <td>8.175000</td>\n",
       "      <td>301.0</td>\n",
       "      <td>593.358333</td>\n",
       "      <td>23824.0</td>\n",
       "      <td>72.096257</td>\n",
       "    </tr>\n",
       "    <tr>\n",
       "      <th>59</th>\n",
       "      <td>0331</td>\n",
       "      <td>10.787500</td>\n",
       "      <td>294.0</td>\n",
       "      <td>604.145833</td>\n",
       "      <td>24118.0</td>\n",
       "      <td>73.131874</td>\n",
       "    </tr>\n",
       "  </tbody>\n",
       "</table>\n",
       "</div>"
      ],
      "text/plain": [
       "   datetime  temperature_chiba  pollen_chiba  sekisan_ondo  sekisan_pollen  \\\n",
       "55     0327          16.354167         396.0    564.737500         23367.0   \n",
       "56     0328          15.720833         156.0    580.458333         23523.0   \n",
       "57     0329           4.725000           0.0    585.183333         23523.0   \n",
       "58     0330           8.175000         301.0    593.358333         23824.0   \n",
       "59     0331          10.787500         294.0    604.145833         24118.0   \n",
       "\n",
       "    relative_sekisan_pollen_pred  \n",
       "55                     69.195265  \n",
       "56                     70.816429  \n",
       "57                     71.290461  \n",
       "58                     72.096257  \n",
       "59                     73.131874  "
      ]
     },
     "execution_count": 43,
     "metadata": {},
     "output_type": "execute_result"
    }
   ],
   "source": [
    "df_accum_2020.tail()"
   ]
  },
  {
   "cell_type": "code",
   "execution_count": 44,
   "metadata": {},
   "outputs": [
    {
     "data": {
      "text/plain": [
       "32978.780406463025"
      ]
     },
     "execution_count": 44,
     "metadata": {},
     "output_type": "execute_result"
    }
   ],
   "source": [
    "df_accum_2020.iloc[-1].sekisan_pollen * (100 / df_accum_2020.iloc[-1].relative_sekisan_pollen_pred)"
   ]
  },
  {
   "cell_type": "code",
   "execution_count": 45,
   "metadata": {},
   "outputs": [
    {
     "data": {
      "text/html": [
       "<div>\n",
       "<style scoped>\n",
       "    .dataframe tbody tr th:only-of-type {\n",
       "        vertical-align: middle;\n",
       "    }\n",
       "\n",
       "    .dataframe tbody tr th {\n",
       "        vertical-align: top;\n",
       "    }\n",
       "\n",
       "    .dataframe thead th {\n",
       "        text-align: right;\n",
       "    }\n",
       "</style>\n",
       "<table border=\"1\" class=\"dataframe\">\n",
       "  <thead>\n",
       "    <tr style=\"text-align: right;\">\n",
       "      <th></th>\n",
       "      <th>datetime</th>\n",
       "      <th>temperature_chiba</th>\n",
       "      <th>pollen_chiba</th>\n",
       "      <th>sekisan_ondo</th>\n",
       "      <th>sekisan_pollen</th>\n",
       "      <th>relative_sekisan_pollen</th>\n",
       "      <th>relative_sekisan_pollen_pred</th>\n",
       "    </tr>\n",
       "  </thead>\n",
       "  <tbody>\n",
       "    <tr>\n",
       "      <th>58</th>\n",
       "      <td>0331</td>\n",
       "      <td>13.054167</td>\n",
       "      <td>3883.0</td>\n",
       "      <td>531.679167</td>\n",
       "      <td>91518.0</td>\n",
       "      <td>70.1497</td>\n",
       "      <td>65.564740</td>\n",
       "    </tr>\n",
       "    <tr>\n",
       "      <th>149</th>\n",
       "      <td>0630</td>\n",
       "      <td>28.587500</td>\n",
       "      <td>0.0</td>\n",
       "      <td>2340.000000</td>\n",
       "      <td>130461.0</td>\n",
       "      <td>100.0000</td>\n",
       "      <td>99.975982</td>\n",
       "    </tr>\n",
       "  </tbody>\n",
       "</table>\n",
       "</div>"
      ],
      "text/plain": [
       "    datetime  temperature_chiba  pollen_chiba  sekisan_ondo  sekisan_pollen  \\\n",
       "58      0331          13.054167        3883.0    531.679167         91518.0   \n",
       "149     0630          28.587500           0.0   2340.000000        130461.0   \n",
       "\n",
       "     relative_sekisan_pollen  relative_sekisan_pollen_pred  \n",
       "58                   70.1497                     65.564740  \n",
       "149                 100.0000                     99.975982  "
      ]
     },
     "execution_count": 45,
     "metadata": {},
     "output_type": "execute_result"
    }
   ],
   "source": [
    "df_accum_2018.iloc[[58, -1]]"
   ]
  },
  {
   "cell_type": "code",
   "execution_count": 46,
   "metadata": {},
   "outputs": [
    {
     "data": {
      "text/plain": [
       "139584.17185032804"
      ]
     },
     "execution_count": 46,
     "metadata": {},
     "output_type": "execute_result"
    }
   ],
   "source": [
    "i = 58\n",
    "df_accum_2018.iloc[i].sekisan_pollen * (100 / df_accum_2018.iloc[i].relative_sekisan_pollen_pred)"
   ]
  },
  {
   "cell_type": "code",
   "execution_count": 47,
   "metadata": {},
   "outputs": [
    {
     "data": {
      "text/plain": [
       "<AxesSubplot:xlabel='sekisan_ondo', ylabel='relative_sekisan_pollen_pred'>"
      ]
     },
     "execution_count": 47,
     "metadata": {},
     "output_type": "execute_result"
    },
    {
     "data": {
      "image/png": "[encoded data removed]",
      "text/plain": [
       "<Figure size 720x576 with 1 Axes>"
      ]
     },
     "metadata": {
      "needs_background": "light"
     },
     "output_type": "display_data"
    }
   ],
   "source": [
    "_, ax = plt.subplots(figsize=(10, 8))\n",
    "sns.lineplot(data=df_accum_2020, x=\"sekisan_ondo\", y=\"relative_sekisan_pollen_pred\", label=\"2020 pred\")\n"
   ]
  },
  {
   "cell_type": "code",
   "execution_count": null,
   "metadata": {},
   "outputs": [],
   "source": []
  }
 ],
 "metadata": {
  "kernelspec": {
   "display_name": "Python 3.7.12 ('base')",
   "language": "python",
   "name": "python3"
  },
  "language_info": {
   "codemirror_mode": {
    "name": "ipython",
    "version": 3
   },
   "file_extension": ".py",
   "mimetype": "text/x-python",
   "name": "python",
   "nbconvert_exporter": "python",
   "pygments_lexer": "ipython3",
   "version": "3.7.12"
  },
  "orig_nbformat": 4,
  "vscode": {
   "interpreter": {
    "hash": "d4d1e4263499bec80672ea0156c357c1ee493ec2b1c70f0acce89fc37c4a6abe"
   }
  }
 },
 "nbformat": 4,
 "nbformat_minor": 2
}
