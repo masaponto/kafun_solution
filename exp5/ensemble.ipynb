{
 "cells": [
  {
   "cell_type": "code",
   "execution_count": 1,
   "id": "7cb303b8",
   "metadata": {},
   "outputs": [],
   "source": [
    "import pandas as pd"
   ]
  },
  {
   "cell_type": "code",
   "execution_count": 2,
   "id": "d45a5fb0",
   "metadata": {},
   "outputs": [],
   "source": [
    "df_lgbm = pd.read_csv(\"sub.csv\", index_col=None)\n",
    "df_mlp = pd.read_csv(\"sub_mlp.csv\", index_col=None)"
   ]
  },
  {
   "cell_type": "code",
   "execution_count": 3,
   "id": "11258053",
   "metadata": {},
   "outputs": [],
   "source": [
    "#cols = [\"pollen_utsunomiya\", \"pollen_chiba\", \"pollen_tokyo\"]\n",
    "cols = [\"pollen_tokyo\"]"
   ]
  },
  {
   "cell_type": "code",
   "execution_count": 4,
   "id": "3deaa92e",
   "metadata": {},
   "outputs": [],
   "source": [
    "df = df_lgbm.copy()\n",
    "#for col in cols:\n",
    "#    df[col] = 0"
   ]
  },
  {
   "cell_type": "code",
   "execution_count": 5,
   "id": "fd8b771d",
   "metadata": {},
   "outputs": [
    {
     "data": {
      "text/html": [
       "<div>\n",
       "<style scoped>\n",
       "    .dataframe tbody tr th:only-of-type {\n",
       "        vertical-align: middle;\n",
       "    }\n",
       "\n",
       "    .dataframe tbody tr th {\n",
       "        vertical-align: top;\n",
       "    }\n",
       "\n",
       "    .dataframe thead th {\n",
       "        text-align: right;\n",
       "    }\n",
       "</style>\n",
       "<table border=\"1\" class=\"dataframe\">\n",
       "  <thead>\n",
       "    <tr style=\"text-align: right;\">\n",
       "      <th></th>\n",
       "      <th>datetime</th>\n",
       "      <th>pollen_utsunomiya</th>\n",
       "      <th>pollen_chiba</th>\n",
       "      <th>pollen_tokyo</th>\n",
       "    </tr>\n",
       "  </thead>\n",
       "  <tbody>\n",
       "    <tr>\n",
       "      <th>0</th>\n",
       "      <td>2020040101</td>\n",
       "      <td>2.797702</td>\n",
       "      <td>1.927351</td>\n",
       "      <td>2.045877</td>\n",
       "    </tr>\n",
       "    <tr>\n",
       "      <th>1</th>\n",
       "      <td>2020040102</td>\n",
       "      <td>3.107972</td>\n",
       "      <td>2.543820</td>\n",
       "      <td>2.247488</td>\n",
       "    </tr>\n",
       "    <tr>\n",
       "      <th>2</th>\n",
       "      <td>2020040103</td>\n",
       "      <td>2.430144</td>\n",
       "      <td>2.439107</td>\n",
       "      <td>2.547313</td>\n",
       "    </tr>\n",
       "    <tr>\n",
       "      <th>3</th>\n",
       "      <td>2020040104</td>\n",
       "      <td>2.263382</td>\n",
       "      <td>1.528326</td>\n",
       "      <td>2.034223</td>\n",
       "    </tr>\n",
       "    <tr>\n",
       "      <th>4</th>\n",
       "      <td>2020040105</td>\n",
       "      <td>2.915893</td>\n",
       "      <td>1.964642</td>\n",
       "      <td>2.425250</td>\n",
       "    </tr>\n",
       "  </tbody>\n",
       "</table>\n",
       "</div>"
      ],
      "text/plain": [
       "     datetime  pollen_utsunomiya  pollen_chiba  pollen_tokyo\n",
       "0  2020040101           2.797702      1.927351      2.045877\n",
       "1  2020040102           3.107972      2.543820      2.247488\n",
       "2  2020040103           2.430144      2.439107      2.547313\n",
       "3  2020040104           2.263382      1.528326      2.034223\n",
       "4  2020040105           2.915893      1.964642      2.425250"
      ]
     },
     "execution_count": 5,
     "metadata": {},
     "output_type": "execute_result"
    }
   ],
   "source": [
    "df.head()"
   ]
  },
  {
   "cell_type": "code",
   "execution_count": 6,
   "id": "0c410ffc",
   "metadata": {},
   "outputs": [
    {
     "data": {
      "text/html": [
       "<div>\n",
       "<style scoped>\n",
       "    .dataframe tbody tr th:only-of-type {\n",
       "        vertical-align: middle;\n",
       "    }\n",
       "\n",
       "    .dataframe tbody tr th {\n",
       "        vertical-align: top;\n",
       "    }\n",
       "\n",
       "    .dataframe thead th {\n",
       "        text-align: right;\n",
       "    }\n",
       "</style>\n",
       "<table border=\"1\" class=\"dataframe\">\n",
       "  <thead>\n",
       "    <tr style=\"text-align: right;\">\n",
       "      <th></th>\n",
       "      <th>datetime</th>\n",
       "      <th>pollen_utsunomiya</th>\n",
       "      <th>pollen_chiba</th>\n",
       "      <th>pollen_tokyo</th>\n",
       "    </tr>\n",
       "  </thead>\n",
       "  <tbody>\n",
       "    <tr>\n",
       "      <th>0</th>\n",
       "      <td>2020040101</td>\n",
       "      <td>4.865701</td>\n",
       "      <td>5.047617</td>\n",
       "      <td>4.113932</td>\n",
       "    </tr>\n",
       "    <tr>\n",
       "      <th>1</th>\n",
       "      <td>2020040102</td>\n",
       "      <td>4.651071</td>\n",
       "      <td>4.748086</td>\n",
       "      <td>2.613778</td>\n",
       "    </tr>\n",
       "    <tr>\n",
       "      <th>2</th>\n",
       "      <td>2020040103</td>\n",
       "      <td>5.145167</td>\n",
       "      <td>4.739955</td>\n",
       "      <td>3.844681</td>\n",
       "    </tr>\n",
       "    <tr>\n",
       "      <th>3</th>\n",
       "      <td>2020040104</td>\n",
       "      <td>4.802923</td>\n",
       "      <td>4.350545</td>\n",
       "      <td>3.334208</td>\n",
       "    </tr>\n",
       "    <tr>\n",
       "      <th>4</th>\n",
       "      <td>2020040105</td>\n",
       "      <td>5.671850</td>\n",
       "      <td>4.661530</td>\n",
       "      <td>3.655057</td>\n",
       "    </tr>\n",
       "  </tbody>\n",
       "</table>\n",
       "</div>"
      ],
      "text/plain": [
       "     datetime  pollen_utsunomiya  pollen_chiba  pollen_tokyo\n",
       "0  2020040101           4.865701      5.047617      4.113932\n",
       "1  2020040102           4.651071      4.748086      2.613778\n",
       "2  2020040103           5.145167      4.739955      3.844681\n",
       "3  2020040104           4.802923      4.350545      3.334208\n",
       "4  2020040105           5.671850      4.661530      3.655057"
      ]
     },
     "execution_count": 6,
     "metadata": {},
     "output_type": "execute_result"
    }
   ],
   "source": [
    "df_mlp.head()"
   ]
  },
  {
   "cell_type": "code",
   "execution_count": 7,
   "id": "68ad49b4",
   "metadata": {},
   "outputs": [],
   "source": [
    "dfs = [df_mlp]"
   ]
  },
  {
   "cell_type": "code",
   "execution_count": 8,
   "id": "12218676",
   "metadata": {},
   "outputs": [
    {
     "data": {
      "text/plain": [
       "['pollen_tokyo']"
      ]
     },
     "execution_count": 8,
     "metadata": {},
     "output_type": "execute_result"
    }
   ],
   "source": [
    "cols"
   ]
  },
  {
   "cell_type": "code",
   "execution_count": 9,
   "id": "ba77fcd1",
   "metadata": {},
   "outputs": [],
   "source": [
    "\n",
    "for col in cols:\n",
    "    for _df in dfs:        \n",
    "        df[col] += _df[col]\n",
    "        \n",
    "    df[col] = df[col] / (len(dfs) + 1)"
   ]
  },
  {
   "cell_type": "code",
   "execution_count": 10,
   "id": "c53099dd",
   "metadata": {},
   "outputs": [
    {
     "data": {
      "text/html": [
       "<div>\n",
       "<style scoped>\n",
       "    .dataframe tbody tr th:only-of-type {\n",
       "        vertical-align: middle;\n",
       "    }\n",
       "\n",
       "    .dataframe tbody tr th {\n",
       "        vertical-align: top;\n",
       "    }\n",
       "\n",
       "    .dataframe thead th {\n",
       "        text-align: right;\n",
       "    }\n",
       "</style>\n",
       "<table border=\"1\" class=\"dataframe\">\n",
       "  <thead>\n",
       "    <tr style=\"text-align: right;\">\n",
       "      <th></th>\n",
       "      <th>datetime</th>\n",
       "      <th>pollen_utsunomiya</th>\n",
       "      <th>pollen_chiba</th>\n",
       "      <th>pollen_tokyo</th>\n",
       "    </tr>\n",
       "  </thead>\n",
       "  <tbody>\n",
       "    <tr>\n",
       "      <th>0</th>\n",
       "      <td>2020040101</td>\n",
       "      <td>2.797702</td>\n",
       "      <td>1.927351</td>\n",
       "      <td>3.079904</td>\n",
       "    </tr>\n",
       "    <tr>\n",
       "      <th>1</th>\n",
       "      <td>2020040102</td>\n",
       "      <td>3.107972</td>\n",
       "      <td>2.543820</td>\n",
       "      <td>2.430633</td>\n",
       "    </tr>\n",
       "    <tr>\n",
       "      <th>2</th>\n",
       "      <td>2020040103</td>\n",
       "      <td>2.430144</td>\n",
       "      <td>2.439107</td>\n",
       "      <td>3.195997</td>\n",
       "    </tr>\n",
       "    <tr>\n",
       "      <th>3</th>\n",
       "      <td>2020040104</td>\n",
       "      <td>2.263382</td>\n",
       "      <td>1.528326</td>\n",
       "      <td>2.684216</td>\n",
       "    </tr>\n",
       "    <tr>\n",
       "      <th>4</th>\n",
       "      <td>2020040105</td>\n",
       "      <td>2.915893</td>\n",
       "      <td>1.964642</td>\n",
       "      <td>3.040153</td>\n",
       "    </tr>\n",
       "  </tbody>\n",
       "</table>\n",
       "</div>"
      ],
      "text/plain": [
       "     datetime  pollen_utsunomiya  pollen_chiba  pollen_tokyo\n",
       "0  2020040101           2.797702      1.927351      3.079904\n",
       "1  2020040102           3.107972      2.543820      2.430633\n",
       "2  2020040103           2.430144      2.439107      3.195997\n",
       "3  2020040104           2.263382      1.528326      2.684216\n",
       "4  2020040105           2.915893      1.964642      3.040153"
      ]
     },
     "execution_count": 10,
     "metadata": {},
     "output_type": "execute_result"
    }
   ],
   "source": [
    "df.head()"
   ]
  },
  {
   "cell_type": "code",
   "execution_count": 11,
   "id": "6ba3d60c",
   "metadata": {},
   "outputs": [],
   "source": [
    "df.to_csv(\"sub_ensemble.csv\", index=None)"
   ]
  },
  {
   "cell_type": "code",
   "execution_count": null,
   "id": "4407ed57",
   "metadata": {},
   "outputs": [],
   "source": []
  }
 ],
 "metadata": {
  "kernelspec": {
   "display_name": "Python 3.7.12 ('base')",
   "language": "python",
   "name": "python3"
  },
  "language_info": {
   "codemirror_mode": {
    "name": "ipython",
    "version": 3
   },
   "file_extension": ".py",
   "mimetype": "text/x-python",
   "name": "python",
   "nbconvert_exporter": "python",
   "pygments_lexer": "ipython3",
   "version": "3.7.12"
  },
  "vscode": {
   "interpreter": {
    "hash": "d4d1e4263499bec80672ea0156c357c1ee493ec2b1c70f0acce89fc37c4a6abe"
   }
  }
 },
 "nbformat": 4,
 "nbformat_minor": 5
}
